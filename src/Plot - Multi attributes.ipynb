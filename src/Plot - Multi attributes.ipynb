{
 "cells": [
  {
   "cell_type": "code",
   "execution_count": 217,
   "id": "aware-ukraine",
   "metadata": {},
   "outputs": [],
   "source": [
    "import numpy as np\n",
    "import choix\n",
    "import opt_fair_multi as opt_fair\n",
    "from scipy.optimize import minimize\n",
    "import scipy.stats as stats\n",
    "import matplotlib.pyplot as plt\n",
    "import random\n",
    "from matplotlib import colors\n",
    "import scipy.sparse as sp"
   ]
  },
  {
   "cell_type": "code",
   "execution_count": 218,
   "id": "unlimited-truck",
   "metadata": {},
   "outputs": [],
   "source": [
    "size = 100 #number of items\n",
    "min_sizes = [30, 30]  \n",
    "\n",
    "num_reviewers = 50 #number of reviewers\n",
    "pair_per_reviewer = 100 #number of pairs evaluated per reviewer"
   ]
  },
  {
   "cell_type": "code",
   "execution_count": 232,
   "id": "6bd6cf1d",
   "metadata": {},
   "outputs": [
    {
     "data": {
      "text/plain": [
       "(100, 2)"
      ]
     },
     "execution_count": 232,
     "metadata": {},
     "output_type": "execute_result"
    }
   ],
   "source": [
    "#init original scores\n",
    "np.random.seed(45)\n",
    "import numpy as np\n",
    "\n",
    "def generate_classes(size, min_sizes):\n",
    "    result_array = np.empty((len(min_sizes), size))\n",
    "    for i, min_size in enumerate(min_sizes):\n",
    "        binary_array = np.zeros(size)\n",
    "        binary_array[:min_size] = 1\n",
    "        np.random.shuffle(binary_array)\n",
    "        result_array[i, :] = binary_array\n",
    "    return result_array.T\n",
    "\n",
    "classes = generate_classes(size, min_sizes)\n",
    "np.shape(classes)"
   ]
  },
  {
   "cell_type": "code",
   "execution_count": 233,
   "id": "false-convergence",
   "metadata": {},
   "outputs": [],
   "source": [
    "np.random.seed(43)\n",
    "\n",
    "std = 5\n",
    "scores = np.random.normal(0,std ,size = size)"
   ]
  },
  {
   "cell_type": "code",
   "execution_count": 234,
   "id": "exempt-tours",
   "metadata": {},
   "outputs": [],
   "source": [
    "rep = 5\n",
    "mean_bias_M = [x/2 for x in [0,1,2,3,4,5,6,7,8,9,10]]\n",
    "annot_bt_M = np.zeros((len(mean_bias_M),rep))\n",
    "bt_M = np.zeros((len(mean_bias_M),rep))\n",
    "rank_centrality_M = np.zeros((len(mean_bias_M),rep))\n",
    "crowd_bt_M = np.zeros((len(mean_bias_M),rep))\n",
    "factor_bt_M = np.zeros((len(mean_bias_M),rep))"
   ]
  },
  {
   "cell_type": "code",
   "execution_count": 235,
   "id": "c24e92b8",
   "metadata": {},
   "outputs": [
    {
     "data": {
      "text/plain": [
       "(50, 2)"
      ]
     },
     "execution_count": 235,
     "metadata": {},
     "output_type": "execute_result"
    }
   ],
   "source": [
    "revs_bias = np.column_stack([\n",
    "    np.random.normal(loc=2, scale=0.1, size=num_reviewers),\n",
    "    np.random.normal(loc=3, scale=0.1, size=num_reviewers)\n",
    "])\n",
    "revs_bias.shape"
   ]
  },
  {
   "cell_type": "code",
   "execution_count": 236,
   "id": "6128731f",
   "metadata": {},
   "outputs": [],
   "source": [
    "def create_pairwise_comparisons(scores, classes, revs_bias, pair_per_reviewer):\n",
    "    pairwise_comparisons = {}\n",
    "    \n",
    "    for i in range(revs_bias.shape[0]):\n",
    "        pairs = []\n",
    "        items = np.arange(len(scores))\n",
    "        for _ in range(pair_per_reviewer):\n",
    "\n",
    "            a, b = np.random.choice(items, size=2, replace=False) #replace = False to ensure a != b\n",
    "            #while (a, b) in pairs or (b, a) in pairs: #sample the pair, in this version instead the reviewer can evaluate the same pair only once\n",
    "                #a, b = np.random.choice(numbers, size=2, replace=False)\n",
    "\n",
    "            #make them play\n",
    "            bias_a = np.dot(classes[a,:],revs_bias[i,:])\n",
    "            bias_b = np.dot(classes[b,:],revs_bias[i,:])\n",
    "            if np.random.rand() < (np.exp(scores[a] + bias_a)/(np.exp(scores[a] + bias_a) + np.exp(scores[b] + bias_b))):\n",
    "            #if scores[a]>scores[b]: #deterministic version\n",
    "            # this block of code will be executed with probability p\n",
    "                pairs.append((a, b)) #who win is the first of the pair!!! i.e. a won\n",
    "            else:\n",
    "            # this block of code will be executed with probability 1-p   \n",
    "                pairs.append((b, a)) #b won\n",
    "        \n",
    "        #save the pc for reviewer i\n",
    "        pairwise_comparisons.update({i: pairs})\n",
    "\n",
    "    return pairwise_comparisons\n"
   ]
  },
  {
   "cell_type": "code",
   "execution_count": 237,
   "id": "9038b6d0",
   "metadata": {},
   "outputs": [
    {
     "data": {
      "text/plain": [
       "(11, 44)"
      ]
     },
     "execution_count": 237,
     "metadata": {},
     "output_type": "execute_result"
    }
   ],
   "source": [
    "pairwise_comparisons = create_pairwise_comparisons(scores, classes, revs_bias, pair_per_reviewer)\n",
    "all_pc  = opt_fair._pc_without_reviewers(pairwise_comparisons)\n",
    "pairwise_comparisons[0][0]"
   ]
  },
  {
   "cell_type": "code",
   "execution_count": 238,
   "id": "secret-renaissance",
   "metadata": {},
   "outputs": [],
   "source": [
    "def _matrix_of_comparisons(size,l, reg = 1):\n",
    "    ''' Input: \n",
    "    size = the number of items\n",
    "    l = the list of pairwise comparisons (a list of pairs, with the first of the pair is the one that has been preferred)\n",
    "    reg = a regularizer to ensure that the network is connected    \n",
    "        Output:\n",
    "    a (size x size) matrix, where a_ij represents the fraction of times object j has been preferred to\n",
    "    object i'''\n",
    "    \n",
    "    A = np.zeros((size,size))\n",
    "    for i,j in l:\n",
    "        A[j,i] += 1 #i won\n",
    "    \n",
    "    B = np.zeros((size,size)) \n",
    "    for i in range(size):\n",
    "        for j in range(size):\n",
    "            if A[i,j]!=0:\n",
    "                B[i,j] = A[i,j]/(A[i,j] + A[j,i])\n",
    "                \n",
    "    return B + reg * (np.ones((size,size)) - np.eye(size))\n",
    "    "
   ]
  },
  {
   "cell_type": "code",
   "execution_count": 239,
   "id": "likely-rhythm",
   "metadata": {},
   "outputs": [],
   "source": [
    "def crowd_alternate_optim(size, num_reviewers, pc_with_revs, iters = 101, tol = 1e-5, gtol = 1e-5):\n",
    "    '''x0 is the estimated scores\n",
    "       y0 is the estimated bias for each reviewer'''\n",
    "    x0 = np.zeros(size)\n",
    "    y0 = np.ones(num_reviewers)*0.7\n",
    "    bounds = [(0, 1)] * len(y0)\n",
    "\n",
    "\n",
    "    for i in range(iters):\n",
    "\n",
    "        \n",
    "        \n",
    "        # minimize with y fixed and update x\n",
    "        res_x = minimize(lambda x: pc_with_revs.crowdbt_objective(x, y0), x0,tol = tol,  jac=lambda x: pc_with_revs.crowdbt_gradient_scores(x, y0), options={\"gtol\": gtol,'maxiter': 1})\n",
    "        x0 = res_x.x\n",
    "        \n",
    "        \n",
    "        # minimize with x fixed and update y\n",
    "        res_y = minimize(lambda y: pc_with_revs.crowdbt_objective(x0, y), y0,tol = tol, jac=lambda y: pc_with_revs.crowdbt_gradient_revs(x0, y), bounds=bounds, options={\"gtol\": gtol,'maxiter': 1})\n",
    "        y0 = res_y.x\n",
    "\n",
    "        #if ((i) % 100 == 0):\n",
    "            #print(f\"Iteration {i}: x = {x0}, y = {y0}\")\n",
    "            #print(res_x.success)\n",
    "            #print(res_y.success)\n",
    "\n",
    "        if res_x.success and res_y.success:\n",
    "            #print(\"Minimum found!\")\n",
    "            #print(f\"Iteration {i}: x = {x0}, y = {y0}\")\n",
    "            #print(res_x.success)\n",
    "            #print(res_y.success)\n",
    "            break\n",
    "    return x0,y0\n"
   ]
  },
  {
   "cell_type": "code",
   "execution_count": 240,
   "id": "89a3f095",
   "metadata": {},
   "outputs": [],
   "source": [
    "def FactorBT_alternate_optim(size, num_reviewers, pc_with_revs, iters = 101, tol = 1e-5, gtol = 1e-5):\n",
    "    '''x0: is the estimated scores\n",
    "       y0: is the estimated bias for each reviewer - i.e. gamma/g\n",
    "       Z0: is the estimated bias for each reviewer - i.e. r \n",
    "       '''\n",
    "    x0 = np.zeros(size)\n",
    "    y0 = np.ones(num_reviewers)*0.7\n",
    "    z0 = np.zeros(num_reviewers)\n",
    "    bounds = [(0, 1)] * len(y0)\n",
    "\n",
    "\n",
    "\n",
    "    for i in range(iters):\n",
    "\n",
    "        # minimize with x,z fixed and update y\n",
    "        res_y = minimize(lambda y: pc_with_revs.FactorBT_objective(x0, y, z0), y0,tol = tol, jac=lambda y: pc_with_revs.FactorBT_gradient_g(x0, y, z0),bounds=bounds, options={\"gtol\": gtol,'maxiter': 1})\n",
    "        y0 = res_y.x\n",
    "        \n",
    "        res_z = minimize(lambda z: pc_with_revs.FactorBT_objective(x0, y0, z), z0,tol = tol, jac=lambda z: pc_with_revs.FactorBT_gradient_r(x0, y0, z), options={\"gtol\": gtol,'maxiter': 1})\n",
    "        z0 = res_z.x\n",
    "\n",
    "        # minimize with y,z fixed and update x\n",
    "        res_x = minimize(lambda x: pc_with_revs.FactorBT_objective(x, y0, z0), x0,tol = tol, jac=lambda x: pc_with_revs.FactorBT_gradient_scores(x, y0, z0), options={\"gtol\": gtol,'maxiter': 1})\n",
    "        x0 = res_x.x\n",
    "\n",
    "\n",
    "        #if ((i) % 100 == 0):\n",
    "            #print(f\"Iteration {i}: x = {x0}, y = {y0}\")\n",
    "            #print(res_x.success)\n",
    "            #print(res_y.success)\n",
    "\n",
    "        if res_x.success and res_y.success:\n",
    "            #print(\"Minimum found!\")\n",
    "            #print(f\"Iteration {i}: x = {x0}, y = {y0}\")\n",
    "            #print(res_x.success)\n",
    "            #print(res_y.success)\n",
    "            break\n",
    "    return x0,y0,z0\n",
    "\n",
    "\n"
   ]
  },
  {
   "cell_type": "code",
   "execution_count": 241,
   "id": "a5b9801d",
   "metadata": {},
   "outputs": [
    {
     "name": "stdout",
     "output_type": "stream",
     "text": [
      "CPU times: user 3min 27s, sys: 2min 31s, total: 5min 58s\n",
      "Wall time: 2min 32s\n"
     ]
    }
   ],
   "source": [
    "%%time\n",
    "np.random.seed(38)\n",
    "revs_bias = np.column_stack([\n",
    "        np.random.normal(loc=-3, scale=0.1, size=num_reviewers),\n",
    "        np.random.normal(loc=-3 - 1, scale=0.1, size=num_reviewers)\n",
    "                                                                ])\n",
    "revs_set =  create_pairwise_comparisons(scores, classes, revs_bias, pair_per_reviewer)\n",
    "all_pc  = opt_fair._pc_without_reviewers(revs_set)\n",
    "\n",
    "\n",
    "#BT\n",
    "bt_temp = choix.opt_pairwise(size, all_pc, alpha=0, method='Newton-CG', initial_params=None, max_iter=None, tol=1e-05)\n",
    "\n",
    "\n",
    "#BARP\n",
    "pc_with_revs = opt_fair.Pairwise_with_rev(data = revs_set, penalty = 0, classes = classes)\n",
    "\n",
    "\n",
    "annot_bt_temp,annot_bias =  opt_fair.barp_multi_alternate_optim(size, num_reviewers, pc_with_revs, classes, iters = 100)\n",
    "\n",
    "        "
   ]
  },
  {
   "cell_type": "code",
   "execution_count": 242,
   "id": "a7304e1d",
   "metadata": {},
   "outputs": [],
   "source": [
    "def rank(scores):\n",
    "    # Create a list of (index, score) tuples\n",
    "    indexed_scores = list(enumerate(scores))\n",
    "\n",
    "    # Sort the list of tuples based on the scores in ascending order\n",
    "    sorted_scores = sorted(indexed_scores, key=lambda x: x[1])\n",
    "\n",
    "    # Create a dictionary to store the ranks\n",
    "    ranks = {}\n",
    "\n",
    "    # Assign ranks to each element based on their sorted order\n",
    "    for i, (index, score) in enumerate(sorted_scores):\n",
    "        ranks[index] = i + 1\n",
    "\n",
    "    # Create a list of ranks for the original order of elements\n",
    "    result = [ranks[i] for i in range(len(scores))]\n",
    "\n",
    "    return result\n",
    "\n"
   ]
  },
  {
   "cell_type": "code",
   "execution_count": 243,
   "id": "d57c5be7",
   "metadata": {},
   "outputs": [],
   "source": [
    "data1 = np.column_stack((rank(scores),rank(annot_bt_temp), classes))\n",
    "\n",
    "\n",
    "data2 = np.column_stack((scores,annot_bt_temp, classes))\n",
    "\n",
    "data3 = np.column_stack((rank(scores),rank(bt_temp), classes))\n",
    "\n",
    "data4 = np.column_stack((scores,bt_temp, classes))\n"
   ]
  },
  {
   "cell_type": "code",
   "execution_count": 260,
   "id": "ca3db8b1",
   "metadata": {},
   "outputs": [
    {
     "data": {
      "image/png": "[encoded data removed]",
      "text/plain": [
       "<Figure size 1000x400 with 2 Axes>"
      ]
     },
     "metadata": {},
     "output_type": "display_data"
    }
   ],
   "source": [
    "import numpy as np\n",
    "import matplotlib.pyplot as plt\n",
    "\n",
    "# Separate the data into different pairs for coloring\n",
    "colors = np.array([(0, 0), (0, 1), (1, 0), (1, 1)])\n",
    "\n",
    "fig, axes = plt.subplots(1, 2, figsize=(10, 4))\n",
    "\n",
    "# Create a scatterplot for the first subplot\n",
    "for color_pair in colors:\n",
    "    indices = np.where((data3[:, 2] == color_pair[0]) & (data3[:, 3] == color_pair[1]))\n",
    "    axes[0].scatter(99-data3[indices, 0],99- data3[indices, 1], label=f'({color_pair[0]}, {color_pair[1]})')\n",
    "\n",
    "# Create a scatterplot for the second subplot\n",
    "for color_pair in colors:\n",
    "    indices = np.where((data1[:, 2] == color_pair[0]) & (data1[:, 3] == color_pair[1]))\n",
    "    axes[1].scatter(99-data1[indices, 0],99- data1[indices, 1], label=f'({color_pair[0]}, {color_pair[1]})')\n",
    "\n",
    "axes[0].axline([0, 0], slope=1, color = 'black')\n",
    "axes[1].axline([0, 0], slope=1, color = 'black')\n",
    "    \n",
    "# Set labels for both subplots\n",
    "axes[0].set_xlabel('True rank', fontsize=15)\n",
    "axes[0].set_ylabel('Predicted rank', fontsize=15)\n",
    "axes[1].set_xlabel('True rank', fontsize=15)\n",
    "#axes[1].set_ylabel('BARP rank', fontsize=18)\n",
    "\n",
    "legend1 = axes[1].legend(title='Groups', fontsize=13, loc = 'lower right')\n",
    "axes[1].add_artist(legend1)\n",
    "\n",
    "axes[0].set_title('Bradley Terry', fontsize=17)\n",
    "axes[1].set_title('BARP', fontsize=17)\n",
    "\n",
    "\n",
    "\n",
    "# Set the overall title in the middle\n",
    "#plt.suptitle('Comparison of Items Rankings', fontsize=20)\n",
    "\n",
    "# Set font size for ticks\n",
    "for ax in axes:\n",
    "    ax.tick_params(axis='both', labelsize=14)\n",
    "\n",
    "\n",
    "# Reverse the y-axis to have 0 at the top\n",
    "axes[0].invert_yaxis()\n",
    "axes[1].invert_yaxis()\n",
    "axes[0].invert_xaxis()\n",
    "axes[1].invert_xaxis()\n",
    "\n",
    "plt.savefig(\"../plots/multi_rank.pdf\", bbox_inches=\"tight\")\n",
    "    \n",
    "# Show the plot\n",
    "plt.show()\n"
   ]
  },
  {
   "cell_type": "code",
   "execution_count": null,
   "id": "aacf6e0f",
   "metadata": {},
   "outputs": [],
   "source": []
  }
 ],
 "metadata": {
  "kernelspec": {
   "display_name": "Python 3 (ipykernel)",
   "language": "python",
   "name": "python3"
  },
  "language_info": {
   "codemirror_mode": {
    "name": "ipython",
    "version": 3
   },
   "file_extension": ".py",
   "mimetype": "text/x-python",
   "name": "python",
   "nbconvert_exporter": "python",
   "pygments_lexer": "ipython3",
   "version": "3.11.5"
  }
 },
 "nbformat": 4,
 "nbformat_minor": 5
}
