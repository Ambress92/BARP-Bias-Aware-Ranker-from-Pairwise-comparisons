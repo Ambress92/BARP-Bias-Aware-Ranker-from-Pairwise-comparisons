{
 "cells": [
  {
   "cell_type": "code",
   "execution_count": 19,
   "id": "human-million",
   "metadata": {},
   "outputs": [],
   "source": [
    "import numpy as np\n",
    "import choix\n",
    "import opt_fair\n",
    "from scipy.optimize import minimize\n",
    "import scipy.stats as stats\n",
    "import matplotlib.pyplot as plt\n",
    "import random\n",
    "from matplotlib import colors"
   ]
  },
  {
   "cell_type": "code",
   "execution_count": 20,
   "id": "deluxe-blank",
   "metadata": {},
   "outputs": [],
   "source": [
    "size = 100 #number of items\n",
    "min_size = 30 \n",
    "maj_size = size - min_size\n"
   ]
  },
  {
   "cell_type": "code",
   "execution_count": 21,
   "id": "chronic-cleveland",
   "metadata": {},
   "outputs": [],
   "source": [
    "#init original scores\n",
    "np.random.seed(43)\n",
    "original = np.random.normal(0,5 ,size = size); #print(original)\n",
    "\n",
    "\n",
    "classes = [0] * maj_size + [1] * min_size"
   ]
  },
  {
   "cell_type": "code",
   "execution_count": 22,
   "id": "f151fafa",
   "metadata": {},
   "outputs": [],
   "source": [
    "max_iters=100\n",
    "num_revs = 50\n",
    "trials = 10\n",
    "revs_bias = np.random.normal(2,2,size = num_revs)"
   ]
  },
  {
   "cell_type": "code",
   "execution_count": 23,
   "id": "european-buyer",
   "metadata": {},
   "outputs": [
    {
     "name": "stdout",
     "output_type": "stream",
     "text": [
      "Results with Poisson distributed number of pairs: Mean= 0.9465 Std= 0.0051\n",
      "CPU times: user 4min 59s, sys: 2min 40s, total: 7min 40s\n",
      "Wall time: 59 s\n"
     ]
    }
   ],
   "source": [
    "%%time\n",
    "\n",
    "\n",
    "res = np.zeros(trials)\n",
    "\n",
    "for i in range(trials):\n",
    "    \n",
    "    pairs_per_reviewer = np.random.poisson(100, size=50)\n",
    "    \n",
    "    biased_scores = opt_fair._create_matrix_biased_scores(original,revs_bias,classes)\n",
    "    revs_set =  opt_fair.create_pc_set_for_reviewers_custom(biased_scores,pairs_per_reviewer)\n",
    "\n",
    "    pc_with_revs = opt_fair.Pairwise_with_rev(data = revs_set, penalty = 0, classes = classes)\n",
    "    annot_bt,annot_bias =  opt_fair._alternate_optim(size, num_revs, pc_with_revs, iters = max_iters)\n",
    "    res[i],x = stats.kendalltau(annot_bt,original)\n",
    "    \n",
    "print('Results with Poisson distributed number of pairs: Mean=',np.round(np.mean(res),4), 'Std=', np.round(np.std(res),4))"
   ]
  },
  {
   "cell_type": "code",
   "execution_count": 24,
   "id": "e26a866a",
   "metadata": {},
   "outputs": [
    {
     "name": "stdout",
     "output_type": "stream",
     "text": [
      "Results with Unifromly distributed number of pairs: Mean= 0.9459 Std= 0.0057\n",
      "CPU times: user 4min 58s, sys: 2min 40s, total: 7min 38s\n",
      "Wall time: 1min 1s\n"
     ]
    }
   ],
   "source": [
    "%%time\n",
    "\n",
    "res2 = np.zeros(trials)\n",
    "\n",
    "\n",
    "for i in range(trials):\n",
    "    \n",
    "    pairs_per_reviewer = [100]*50\n",
    "    \n",
    "    biased_scores = opt_fair._create_matrix_biased_scores(original,revs_bias,classes)\n",
    "    revs_set =  opt_fair.create_pc_set_for_reviewers_custom(biased_scores,pairs_per_reviewer)\n",
    "\n",
    "    pc_with_revs = opt_fair.Pairwise_with_rev(data = revs_set, penalty = 0, classes = classes)\n",
    "    annot_bt,annot_bias =  opt_fair._alternate_optim(size, num_revs, pc_with_revs, iters = max_iters)\n",
    "    res2[i],x = stats.kendalltau(annot_bt,original)\n",
    "\n",
    "print('Results with Unifromly distributed number of pairs: Mean=',np.round(np.mean(res2),4), 'Std=', np.round(np.std(res2),4))"
   ]
  },
  {
   "cell_type": "code",
   "execution_count": 25,
   "id": "03925f49",
   "metadata": {},
   "outputs": [
    {
     "name": "stdout",
     "output_type": "stream",
     "text": [
      "Results with 10,30.. distributed number of pairs: Mean= 0.9493 Std= 0.005\n",
      "CPU times: user 4min 46s, sys: 2min 43s, total: 7min 30s\n",
      "Wall time: 58.9 s\n"
     ]
    }
   ],
   "source": [
    "%%time\n",
    "\n",
    "\n",
    "res3 = np.zeros(trials)\n",
    "\n",
    "\n",
    "for i in range(trials):\n",
    "    \n",
    "    pairs_per_reviewer = [10,30,50,70,90,110,130,150,170,190]*5\n",
    "    biased_scores = opt_fair._create_matrix_biased_scores(original,revs_bias,classes)\n",
    "    revs_set =  opt_fair.create_pc_set_for_reviewers_custom(biased_scores,pairs_per_reviewer)\n",
    "\n",
    "    pc_with_revs = opt_fair.Pairwise_with_rev(data = revs_set, penalty = 0, classes = classes)\n",
    "    annot_bt,annot_bias =  opt_fair._alternate_optim(size, num_revs, pc_with_revs, iters = max_iters)\n",
    "    res3[i],x = stats.kendalltau(annot_bt,original)\n",
    "\n",
    "print('Results with 10,30.. distributed number of pairs: Mean=',np.round(np.mean(res3),4), 'Std=', np.round(np.std(res3),4))"
   ]
  },
  {
   "cell_type": "code",
   "execution_count": 26,
   "id": "7e43323b",
   "metadata": {},
   "outputs": [
    {
     "name": "stdout",
     "output_type": "stream",
     "text": [
      "Results with 5 or 195 distributed number of pairs: Mean= 0.9446 Std= 0.0067\n",
      "CPU times: user 4min 46s, sys: 2min 46s, total: 7min 33s\n",
      "Wall time: 59.2 s\n"
     ]
    }
   ],
   "source": [
    "%%time\n",
    "\n",
    "\n",
    "res4 = np.zeros(trials)\n",
    "\n",
    "\n",
    "for i in range(trials):\n",
    "    \n",
    "    pairs_per_reviewer = [5,195]*25\n",
    "    biased_scores = opt_fair._create_matrix_biased_scores(original,revs_bias,classes)\n",
    "    revs_set =  opt_fair.create_pc_set_for_reviewers_custom(biased_scores,pairs_per_reviewer)\n",
    "\n",
    "    pc_with_revs = opt_fair.Pairwise_with_rev(data = revs_set, penalty = 0, classes = classes)\n",
    "    annot_bt,annot_bias =  opt_fair._alternate_optim(size, num_revs, pc_with_revs, iters = max_iters)\n",
    "    res4[i],x = stats.kendalltau(annot_bt,original)\n",
    "\n",
    "print('Results with 5 or 195 distributed number of pairs: Mean=',np.round(np.mean(res4),4), 'Std=', np.round(np.std(res4),4))"
   ]
  },
  {
   "cell_type": "code",
   "execution_count": 27,
   "id": "alone-rental",
   "metadata": {},
   "outputs": [
    {
     "data": {
      "image/png": "[encoded data removed]",
      "text/plain": [
       "<Figure size 640x480 with 1 Axes>"
      ]
     },
     "metadata": {},
     "output_type": "display_data"
    }
   ],
   "source": [
    "import matplotlib.pyplot as plt\n",
    "\n",
    "res_means = [ np.mean(res2), np.mean(res), np.mean(res3), np.mean(res4)] #uniform, poisson 10,30,50,etc, 5or195\n",
    "res_stds = [ np.std(res2),np.std(res), np.std(res3), np.std(res4)]\n",
    "\n",
    "labels = ['Case 1', 'Case 2', 'Case 3', 'Case 4']\n",
    "\n",
    "plt.errorbar(labels, res_means, yerr=res_stds, fmt='o', capsize=5)\n",
    "\n",
    "plt.xlabel('Distribution of pairs evaluated')\n",
    "plt.ylabel(\"Kendall's Tau\")\n",
    "#plt.title('Means of Variables with Error Bars')\n",
    "\n",
    "plt.show()\n"
   ]
  },
  {
   "cell_type": "code",
   "execution_count": null,
   "id": "31ee11cc",
   "metadata": {},
   "outputs": [],
   "source": []
  },
  {
   "cell_type": "code",
   "execution_count": null,
   "id": "c5e443a1",
   "metadata": {},
   "outputs": [],
   "source": []
  }
 ],
 "metadata": {
  "kernelspec": {
   "display_name": "Python 3 (ipykernel)",
   "language": "python",
   "name": "python3"
  },
  "language_info": {
   "codemirror_mode": {
    "name": "ipython",
    "version": 3
   },
   "file_extension": ".py",
   "mimetype": "text/x-python",
   "name": "python",
   "nbconvert_exporter": "python",
   "pygments_lexer": "ipython3",
   "version": "3.11.5"
  }
 },
 "nbformat": 4,
 "nbformat_minor": 5
}
