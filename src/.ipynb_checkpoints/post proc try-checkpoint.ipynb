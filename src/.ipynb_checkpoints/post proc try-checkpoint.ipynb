{
 "cells": [
  {
   "cell_type": "code",
   "execution_count": 7,
   "id": "5086c912",
   "metadata": {},
   "outputs": [],
   "source": [
    "import fairsearchcore as fsc"
   ]
  },
  {
   "cell_type": "code",
   "execution_count": 8,
   "id": "2f218350",
   "metadata": {},
   "outputs": [
    {
     "ename": "TypeError",
     "evalue": "__hash__ method should return an integer",
     "output_type": "error",
     "traceback": [
      "\u001b[0;31m---------------------------------------------------------------------------\u001b[0m",
      "\u001b[0;31mTypeError\u001b[0m                                 Traceback (most recent call last)",
      "Cell \u001b[0;32mIn[8], line 12\u001b[0m\n\u001b[1;32m      9\u001b[0m mtable \u001b[38;5;241m=\u001b[39m fair\u001b[38;5;241m.\u001b[39mcreate_unadjusted_mtable()\n\u001b[1;32m     11\u001b[0m \u001b[38;5;66;03m# analytically calculate the fail probability\u001b[39;00m\n\u001b[0;32m---> 12\u001b[0m analytical \u001b[38;5;241m=\u001b[39m fair\u001b[38;5;241m.\u001b[39mcompute_fail_probability(mtable)\n\u001b[1;32m     14\u001b[0m \u001b[38;5;66;03m# create an mtable using alpha adjusted\u001b[39;00m\n\u001b[1;32m     15\u001b[0m mtable \u001b[38;5;241m=\u001b[39m fair\u001b[38;5;241m.\u001b[39mcreate_adjusted_mtable()\n",
      "File \u001b[0;32m~/anaconda3/lib/python3.11/site-packages/fairsearchcore/fair.py:89\u001b[0m, in \u001b[0;36mFair.compute_fail_probability\u001b[0;34m(self, mtable)\u001b[0m\n\u001b[1;32m     86\u001b[0m \u001b[38;5;28;01mfor\u001b[39;00m i \u001b[38;5;129;01min\u001b[39;00m \u001b[38;5;28mrange\u001b[39m(\u001b[38;5;241m1\u001b[39m, \u001b[38;5;28mlen\u001b[39m(mtable) \u001b[38;5;241m+\u001b[39m \u001b[38;5;241m1\u001b[39m):\n\u001b[1;32m     87\u001b[0m     mtable_df\u001b[38;5;241m.\u001b[39mloc[i] \u001b[38;5;241m=\u001b[39m [mtable[i\u001b[38;5;241m-\u001b[39m\u001b[38;5;241m1\u001b[39m]]\n\u001b[0;32m---> 89\u001b[0m \u001b[38;5;28;01mreturn\u001b[39;00m rnfpc\u001b[38;5;241m.\u001b[39mcalculate_fail_probability(mtable_df)\n",
      "File \u001b[0;32m~/anaconda3/lib/python3.11/site-packages/fairsearchcore/fail_prob.py:102\u001b[0m, in \u001b[0;36mRecursiveNumericFailProbabilityCalculator.calculate_fail_probability\u001b[0;34m(self, mtable)\u001b[0m\n\u001b[1;32m    100\u001b[0m max_protected \u001b[38;5;241m=\u001b[39m aux_mtable[\u001b[38;5;124m'\u001b[39m\u001b[38;5;124mblock\u001b[39m\u001b[38;5;124m'\u001b[39m]\u001b[38;5;241m.\u001b[39msum()\n\u001b[1;32m    101\u001b[0m block_sizes \u001b[38;5;241m=\u001b[39m aux_mtable[\u001b[38;5;124m'\u001b[39m\u001b[38;5;124mblock\u001b[39m\u001b[38;5;124m'\u001b[39m]\u001b[38;5;241m.\u001b[39mtolist()\u001b[38;5;66;03m#[1:]\u001b[39;00m\n\u001b[0;32m--> 102\u001b[0m success_prob \u001b[38;5;241m=\u001b[39m \u001b[38;5;28mself\u001b[39m\u001b[38;5;241m.\u001b[39m_find_legal_assignments(max_protected, block_sizes)\n\u001b[1;32m    103\u001b[0m \u001b[38;5;28;01mreturn\u001b[39;00m \u001b[38;5;241m0\u001b[39m \u001b[38;5;28;01mif\u001b[39;00m success_prob \u001b[38;5;241m==\u001b[39m \u001b[38;5;241m0\u001b[39m \u001b[38;5;28;01melse\u001b[39;00m (\u001b[38;5;241m1\u001b[39m \u001b[38;5;241m-\u001b[39m success_prob)\n",
      "File \u001b[0;32m~/anaconda3/lib/python3.11/site-packages/fairsearchcore/fail_prob.py:114\u001b[0m, in \u001b[0;36mRecursiveNumericFailProbabilityCalculator._find_legal_assignments\u001b[0;34m(self, number_of_candidates, block_sizes)\u001b[0m\n\u001b[1;32m    113\u001b[0m \u001b[38;5;28;01mdef\u001b[39;00m \u001b[38;5;21m_find_legal_assignments\u001b[39m(\u001b[38;5;28mself\u001b[39m, number_of_candidates, block_sizes):\n\u001b[0;32m--> 114\u001b[0m     \u001b[38;5;28;01mreturn\u001b[39;00m \u001b[38;5;28mself\u001b[39m\u001b[38;5;241m.\u001b[39m_find_legal_assignments_aux(number_of_candidates, block_sizes, \u001b[38;5;241m1\u001b[39m, \u001b[38;5;241m0\u001b[39m)\n",
      "File \u001b[0;32m~/anaconda3/lib/python3.11/site-packages/fairsearchcore/fail_prob.py:132\u001b[0m, in \u001b[0;36mRecursiveNumericFailProbabilityCalculator._find_legal_assignments_aux\u001b[0;34m(self, number_of_candidates, block_sizes, current_block_number, candidates_assigned_so_far)\u001b[0m\n\u001b[1;32m    129\u001b[0m \u001b[38;5;28;01mfor\u001b[39;00m items_this_block \u001b[38;5;129;01min\u001b[39;00m \u001b[38;5;28mrange\u001b[39m(min_needed_this_block, max_possible_this_block \u001b[38;5;241m+\u001b[39m \u001b[38;5;241m1\u001b[39m):\n\u001b[1;32m    130\u001b[0m     new_remaining_candidates \u001b[38;5;241m=\u001b[39m number_of_candidates \u001b[38;5;241m-\u001b[39m items_this_block\n\u001b[0;32m--> 132\u001b[0m     suffixes \u001b[38;5;241m=\u001b[39m \u001b[38;5;28mself\u001b[39m\u001b[38;5;241m.\u001b[39m_calculate_legal_assignments_aux(new_remaining_candidates, new_remaining_block_sizes,\n\u001b[1;32m    133\u001b[0m                                                      current_block_number \u001b[38;5;241m+\u001b[39m \u001b[38;5;241m1\u001b[39m,\n\u001b[1;32m    134\u001b[0m                                                      candidates_assigned_so_far \u001b[38;5;241m+\u001b[39m items_this_block)\n\u001b[1;32m    136\u001b[0m     assignments \u001b[38;5;241m+\u001b[39m\u001b[38;5;241m=\u001b[39m \u001b[38;5;28mself\u001b[39m\u001b[38;5;241m.\u001b[39mget_from_pmf_cache(max_possible_this_block, items_this_block) \u001b[38;5;241m*\u001b[39m suffixes\n\u001b[1;32m    138\u001b[0m \u001b[38;5;28;01mreturn\u001b[39;00m assignments\n",
      "File \u001b[0;32m~/anaconda3/lib/python3.11/site-packages/fairsearchcore/fail_prob.py:145\u001b[0m, in \u001b[0;36mRecursiveNumericFailProbabilityCalculator._calculate_legal_assignments_aux\u001b[0;34m(self, remaining_candidates, remaining_block_sizes, current_block_number, candidates_assigned_so_far)\u001b[0m\n\u001b[1;32m    140\u001b[0m \u001b[38;5;28;01mdef\u001b[39;00m \u001b[38;5;21m_calculate_legal_assignments_aux\u001b[39m(\u001b[38;5;28mself\u001b[39m, remaining_candidates, remaining_block_sizes,\n\u001b[1;32m    141\u001b[0m                                      current_block_number, candidates_assigned_so_far):\n\u001b[1;32m    142\u001b[0m     key \u001b[38;5;241m=\u001b[39m LegalAssignmentKey(remaining_candidates, remaining_block_sizes,\n\u001b[1;32m    143\u001b[0m                              current_block_number, candidates_assigned_so_far)\n\u001b[0;32m--> 145\u001b[0m     \u001b[38;5;28;01mif\u001b[39;00m \u001b[38;5;129;01mnot\u001b[39;00m key \u001b[38;5;129;01min\u001b[39;00m \u001b[38;5;28mself\u001b[39m\u001b[38;5;241m.\u001b[39mlegal_assignment_cache:\n\u001b[1;32m    146\u001b[0m         \u001b[38;5;28mself\u001b[39m\u001b[38;5;241m.\u001b[39mlegal_assignment_cache[key] \u001b[38;5;241m=\u001b[39m \u001b[38;5;28mself\u001b[39m\u001b[38;5;241m.\u001b[39m_find_legal_assignments_aux(remaining_candidates,\n\u001b[1;32m    147\u001b[0m                                                                             remaining_block_sizes,\n\u001b[1;32m    148\u001b[0m                                                                             current_block_number,\n\u001b[1;32m    149\u001b[0m                                                                             candidates_assigned_so_far)\n\u001b[1;32m    151\u001b[0m     \u001b[38;5;28;01mreturn\u001b[39;00m \u001b[38;5;28mself\u001b[39m\u001b[38;5;241m.\u001b[39mlegal_assignment_cache[key]\n",
      "\u001b[0;31mTypeError\u001b[0m: __hash__ method should return an integer"
     ]
    }
   ],
   "source": [
    "k = 20 # number of topK elements returned (value should be between 10 and 400)\n",
    "p = 0.25 # proportion of protected candidates in the topK elements (value should be between 0.02 and 0.98) \n",
    "alpha = 0.1 # significance level (value should be between 0.01 and 0.15)\n",
    "\n",
    "# create the Fair object \n",
    "fair = fsc.Fair(k, p, alpha)\n",
    "\n",
    "# create an mtable using alpha unadjusted\n",
    "mtable = fair.create_unadjusted_mtable()\n",
    "\n",
    "# analytically calculate the fail probability\n",
    "analytical = fair.compute_fail_probability(mtable)\n",
    "\n",
    "# create an mtable using alpha adjusted\n",
    "mtable = fair.create_adjusted_mtable()\n",
    "\n",
    "# again, analytically calculate the fail probability\n",
    "analytical = fair.compute_fail_probability(mtable)\n"
   ]
  },
  {
   "cell_type": "code",
   "execution_count": 9,
   "id": "37a6bb4f",
   "metadata": {},
   "outputs": [
    {
     "ename": "TypeError",
     "evalue": "__hash__ method should return an integer",
     "output_type": "error",
     "traceback": [
      "\u001b[0;31m---------------------------------------------------------------------------\u001b[0m",
      "\u001b[0;31mTypeError\u001b[0m                                 Traceback (most recent call last)",
      "Cell \u001b[0;32mIn[9], line 15\u001b[0m\n\u001b[1;32m      6\u001b[0m unfair_ranking \u001b[38;5;241m=\u001b[39m [FairScoreDoc(\u001b[38;5;241m20\u001b[39m, \u001b[38;5;241m20\u001b[39m, \u001b[38;5;28;01mFalse\u001b[39;00m), FairScoreDoc(\u001b[38;5;241m19\u001b[39m, \u001b[38;5;241m19\u001b[39m, \u001b[38;5;28;01mFalse\u001b[39;00m), FairScoreDoc(\u001b[38;5;241m18\u001b[39m, \u001b[38;5;241m18\u001b[39m, \u001b[38;5;28;01mFalse\u001b[39;00m),\n\u001b[1;32m      7\u001b[0m                       FairScoreDoc(\u001b[38;5;241m17\u001b[39m, \u001b[38;5;241m17\u001b[39m, \u001b[38;5;28;01mFalse\u001b[39;00m), FairScoreDoc(\u001b[38;5;241m16\u001b[39m, \u001b[38;5;241m16\u001b[39m, \u001b[38;5;28;01mFalse\u001b[39;00m), FairScoreDoc(\u001b[38;5;241m15\u001b[39m, \u001b[38;5;241m15\u001b[39m, \u001b[38;5;28;01mFalse\u001b[39;00m),\n\u001b[1;32m      8\u001b[0m                       FairScoreDoc(\u001b[38;5;241m14\u001b[39m, \u001b[38;5;241m14\u001b[39m, \u001b[38;5;28;01mFalse\u001b[39;00m), FairScoreDoc(\u001b[38;5;241m13\u001b[39m, \u001b[38;5;241m13\u001b[39m, \u001b[38;5;28;01mFalse\u001b[39;00m), FairScoreDoc(\u001b[38;5;241m12\u001b[39m, \u001b[38;5;241m12\u001b[39m, \u001b[38;5;28;01mFalse\u001b[39;00m),\n\u001b[0;32m   (...)\u001b[0m\n\u001b[1;32m     11\u001b[0m                       FairScoreDoc(\u001b[38;5;241m5\u001b[39m, \u001b[38;5;241m5\u001b[39m, \u001b[38;5;28;01mTrue\u001b[39;00m), FairScoreDoc(\u001b[38;5;241m4\u001b[39m, \u001b[38;5;241m4\u001b[39m, \u001b[38;5;28;01mTrue\u001b[39;00m), FairScoreDoc(\u001b[38;5;241m3\u001b[39m, \u001b[38;5;241m3\u001b[39m, \u001b[38;5;28;01mTrue\u001b[39;00m),\n\u001b[1;32m     12\u001b[0m                       FairScoreDoc(\u001b[38;5;241m2\u001b[39m, \u001b[38;5;241m2\u001b[39m, \u001b[38;5;28;01mTrue\u001b[39;00m), FairScoreDoc(\u001b[38;5;241m1\u001b[39m, \u001b[38;5;241m1\u001b[39m, \u001b[38;5;28;01mTrue\u001b[39;00m)]\n\u001b[1;32m     14\u001b[0m \u001b[38;5;66;03m# let's check the ranking is considered fair\u001b[39;00m\n\u001b[0;32m---> 15\u001b[0m fair\u001b[38;5;241m.\u001b[39mis_fair(unfair_ranking)\n\u001b[1;32m     18\u001b[0m \u001b[38;5;66;03m# now re-rank the unfair ranking                 \u001b[39;00m\n\u001b[1;32m     19\u001b[0m re_ranked \u001b[38;5;241m=\u001b[39m fair\u001b[38;5;241m.\u001b[39mre_rank(unfair_ranking)\n",
      "File \u001b[0;32m~/anaconda3/lib/python3.11/site-packages/fairsearchcore/fair.py:97\u001b[0m, in \u001b[0;36mFair.is_fair\u001b[0;34m(self, ranking)\u001b[0m\n\u001b[1;32m     91\u001b[0m \u001b[38;5;28;01mdef\u001b[39;00m \u001b[38;5;21mis_fair\u001b[39m(\u001b[38;5;28mself\u001b[39m, ranking):\n\u001b[1;32m     92\u001b[0m \u001b[38;5;250m    \u001b[39m\u001b[38;5;124;03m\"\"\"\u001b[39;00m\n\u001b[1;32m     93\u001b[0m \u001b[38;5;124;03m    Checks if the ranking is fair for the given parameters\u001b[39;00m\n\u001b[1;32m     94\u001b[0m \u001b[38;5;124;03m    :param ranking:     The ranking to be checked (list of FairScoreDoc)\u001b[39;00m\n\u001b[1;32m     95\u001b[0m \u001b[38;5;124;03m    :return:\u001b[39;00m\n\u001b[1;32m     96\u001b[0m \u001b[38;5;124;03m    \"\"\"\u001b[39;00m\n\u001b[0;32m---> 97\u001b[0m     \u001b[38;5;28;01mreturn\u001b[39;00m check_ranking(ranking, \u001b[38;5;28mself\u001b[39m\u001b[38;5;241m.\u001b[39mcreate_adjusted_mtable())\n",
      "File \u001b[0;32m~/anaconda3/lib/python3.11/site-packages/fairsearchcore/fair.py:41\u001b[0m, in \u001b[0;36mFair.create_adjusted_mtable\u001b[0;34m(self)\u001b[0m\n\u001b[1;32m     36\u001b[0m \u001b[38;5;28;01mdef\u001b[39;00m \u001b[38;5;21mcreate_adjusted_mtable\u001b[39m(\u001b[38;5;28mself\u001b[39m):\n\u001b[1;32m     37\u001b[0m \u001b[38;5;250m    \u001b[39m\u001b[38;5;124;03m\"\"\"\u001b[39;00m\n\u001b[1;32m     38\u001b[0m \u001b[38;5;124;03m    Creates an mtable using alpha adjusted\u001b[39;00m\n\u001b[1;32m     39\u001b[0m \u001b[38;5;124;03m    :return:\u001b[39;00m\n\u001b[1;32m     40\u001b[0m \u001b[38;5;124;03m    \"\"\"\u001b[39;00m\n\u001b[0;32m---> 41\u001b[0m     \u001b[38;5;28;01mreturn\u001b[39;00m \u001b[38;5;28mself\u001b[39m\u001b[38;5;241m.\u001b[39m_create_mtable(\u001b[38;5;28mself\u001b[39m\u001b[38;5;241m.\u001b[39malpha, \u001b[38;5;28;01mTrue\u001b[39;00m)\n",
      "File \u001b[0;32m~/anaconda3/lib/python3.11/site-packages/fairsearchcore/fair.py:56\u001b[0m, in \u001b[0;36mFair._create_mtable\u001b[0;34m(self, alpha, adjust_alpha)\u001b[0m\n\u001b[1;32m     53\u001b[0m _validate_alpha(alpha)\n\u001b[1;32m     55\u001b[0m \u001b[38;5;66;03m# create the mtable\u001b[39;00m\n\u001b[0;32m---> 56\u001b[0m fc \u001b[38;5;241m=\u001b[39m mtable_generator\u001b[38;5;241m.\u001b[39mMTableGenerator(\u001b[38;5;28mself\u001b[39m\u001b[38;5;241m.\u001b[39mk, \u001b[38;5;28mself\u001b[39m\u001b[38;5;241m.\u001b[39mp, alpha, adjust_alpha)\n\u001b[1;32m     58\u001b[0m \u001b[38;5;66;03m# store as list\u001b[39;00m\n\u001b[1;32m     59\u001b[0m \u001b[38;5;28mself\u001b[39m\u001b[38;5;241m.\u001b[39m_cache[(\u001b[38;5;28mself\u001b[39m\u001b[38;5;241m.\u001b[39mk, \u001b[38;5;28mself\u001b[39m\u001b[38;5;241m.\u001b[39mp, \u001b[38;5;28mself\u001b[39m\u001b[38;5;241m.\u001b[39malpha, adjust_alpha)] \u001b[38;5;241m=\u001b[39m fc\u001b[38;5;241m.\u001b[39mmtable_as_list()\n",
      "File \u001b[0;32m~/anaconda3/lib/python3.11/site-packages/fairsearchcore/mtable_generator.py:25\u001b[0m, in \u001b[0;36mMTableGenerator.__init__\u001b[0;34m(self, k, p, alpha, adjust_alpha)\u001b[0m\n\u001b[1;32m     22\u001b[0m \u001b[38;5;28mself\u001b[39m\u001b[38;5;241m.\u001b[39madjust_alpha \u001b[38;5;241m=\u001b[39m adjust_alpha\n\u001b[1;32m     24\u001b[0m \u001b[38;5;28;01mif\u001b[39;00m \u001b[38;5;28mself\u001b[39m\u001b[38;5;241m.\u001b[39madjust_alpha:\n\u001b[0;32m---> 25\u001b[0m     fail_prob_pair \u001b[38;5;241m=\u001b[39m fail_prob\u001b[38;5;241m.\u001b[39mRecursiveNumericFailProbabilityCalculator(k, p, alpha)\u001b[38;5;241m.\u001b[39madjust_alpha()\n\u001b[1;32m     26\u001b[0m     \u001b[38;5;28mself\u001b[39m\u001b[38;5;241m.\u001b[39madjusted_alpha \u001b[38;5;241m=\u001b[39m fail_prob_pair\u001b[38;5;241m.\u001b[39malpha\n\u001b[1;32m     27\u001b[0m     \u001b[38;5;28mself\u001b[39m\u001b[38;5;241m.\u001b[39m_mtable \u001b[38;5;241m=\u001b[39m fail_prob_pair\u001b[38;5;241m.\u001b[39mmtable\n",
      "File \u001b[0;32m~/anaconda3/lib/python3.11/site-packages/fairsearchcore/fail_prob.py:54\u001b[0m, in \u001b[0;36mRecursiveNumericFailProbabilityCalculator.adjust_alpha\u001b[0;34m(self)\u001b[0m\n\u001b[1;32m     51\u001b[0m a_mid \u001b[38;5;241m=\u001b[39m (a_min \u001b[38;5;241m+\u001b[39m a_max) \u001b[38;5;241m/\u001b[39m \u001b[38;5;241m2\u001b[39m\n\u001b[1;32m     53\u001b[0m minb \u001b[38;5;241m=\u001b[39m \u001b[38;5;28mself\u001b[39m\u001b[38;5;241m.\u001b[39m_compute_boundary(a_min)\n\u001b[0;32m---> 54\u001b[0m maxb \u001b[38;5;241m=\u001b[39m \u001b[38;5;28mself\u001b[39m\u001b[38;5;241m.\u001b[39m_compute_boundary(a_max)\n\u001b[1;32m     55\u001b[0m midb \u001b[38;5;241m=\u001b[39m \u001b[38;5;28mself\u001b[39m\u001b[38;5;241m.\u001b[39m_compute_boundary(a_mid)\n\u001b[1;32m     57\u001b[0m \u001b[38;5;28;01mwhile\u001b[39;00m minb\u001b[38;5;241m.\u001b[39mmass_of_mtable() \u001b[38;5;241m<\u001b[39m maxb\u001b[38;5;241m.\u001b[39mmass_of_mtable() \u001b[38;5;129;01mand\u001b[39;00m midb\u001b[38;5;241m.\u001b[39mfail_prob \u001b[38;5;241m!=\u001b[39m \u001b[38;5;28mself\u001b[39m\u001b[38;5;241m.\u001b[39malpha:\n",
      "File \u001b[0;32m~/anaconda3/lib/python3.11/site-packages/fairsearchcore/fail_prob.py:110\u001b[0m, in \u001b[0;36mRecursiveNumericFailProbabilityCalculator._compute_boundary\u001b[0;34m(self, alpha)\u001b[0m\n\u001b[1;32m    106\u001b[0m \u001b[38;5;250m\u001b[39m\u001b[38;5;124;03m\"\"\"\u001b[39;00m\n\u001b[1;32m    107\u001b[0m \u001b[38;5;124;03mReturns a tuple of (k, p, alpha, fail_prob, mtable)\u001b[39;00m\n\u001b[1;32m    108\u001b[0m \u001b[38;5;124;03m\"\"\"\u001b[39;00m\n\u001b[1;32m    109\u001b[0m mtable \u001b[38;5;241m=\u001b[39m mtable_generator\u001b[38;5;241m.\u001b[39mMTableGenerator(\u001b[38;5;28mself\u001b[39m\u001b[38;5;241m.\u001b[39mk, \u001b[38;5;28mself\u001b[39m\u001b[38;5;241m.\u001b[39mp, alpha, \u001b[38;5;28;01mFalse\u001b[39;00m)\u001b[38;5;241m.\u001b[39mmtable_as_dataframe()\n\u001b[0;32m--> 110\u001b[0m fail_prob \u001b[38;5;241m=\u001b[39m \u001b[38;5;28mself\u001b[39m\u001b[38;5;241m.\u001b[39mcalculate_fail_probability(mtable)\n\u001b[1;32m    111\u001b[0m \u001b[38;5;28;01mreturn\u001b[39;00m MTableFailProbPair(\u001b[38;5;28mself\u001b[39m\u001b[38;5;241m.\u001b[39mk, \u001b[38;5;28mself\u001b[39m\u001b[38;5;241m.\u001b[39mp, alpha, fail_prob, mtable)\n",
      "File \u001b[0;32m~/anaconda3/lib/python3.11/site-packages/fairsearchcore/fail_prob.py:102\u001b[0m, in \u001b[0;36mRecursiveNumericFailProbabilityCalculator.calculate_fail_probability\u001b[0;34m(self, mtable)\u001b[0m\n\u001b[1;32m    100\u001b[0m max_protected \u001b[38;5;241m=\u001b[39m aux_mtable[\u001b[38;5;124m'\u001b[39m\u001b[38;5;124mblock\u001b[39m\u001b[38;5;124m'\u001b[39m]\u001b[38;5;241m.\u001b[39msum()\n\u001b[1;32m    101\u001b[0m block_sizes \u001b[38;5;241m=\u001b[39m aux_mtable[\u001b[38;5;124m'\u001b[39m\u001b[38;5;124mblock\u001b[39m\u001b[38;5;124m'\u001b[39m]\u001b[38;5;241m.\u001b[39mtolist()\u001b[38;5;66;03m#[1:]\u001b[39;00m\n\u001b[0;32m--> 102\u001b[0m success_prob \u001b[38;5;241m=\u001b[39m \u001b[38;5;28mself\u001b[39m\u001b[38;5;241m.\u001b[39m_find_legal_assignments(max_protected, block_sizes)\n\u001b[1;32m    103\u001b[0m \u001b[38;5;28;01mreturn\u001b[39;00m \u001b[38;5;241m0\u001b[39m \u001b[38;5;28;01mif\u001b[39;00m success_prob \u001b[38;5;241m==\u001b[39m \u001b[38;5;241m0\u001b[39m \u001b[38;5;28;01melse\u001b[39;00m (\u001b[38;5;241m1\u001b[39m \u001b[38;5;241m-\u001b[39m success_prob)\n",
      "File \u001b[0;32m~/anaconda3/lib/python3.11/site-packages/fairsearchcore/fail_prob.py:114\u001b[0m, in \u001b[0;36mRecursiveNumericFailProbabilityCalculator._find_legal_assignments\u001b[0;34m(self, number_of_candidates, block_sizes)\u001b[0m\n\u001b[1;32m    113\u001b[0m \u001b[38;5;28;01mdef\u001b[39;00m \u001b[38;5;21m_find_legal_assignments\u001b[39m(\u001b[38;5;28mself\u001b[39m, number_of_candidates, block_sizes):\n\u001b[0;32m--> 114\u001b[0m     \u001b[38;5;28;01mreturn\u001b[39;00m \u001b[38;5;28mself\u001b[39m\u001b[38;5;241m.\u001b[39m_find_legal_assignments_aux(number_of_candidates, block_sizes, \u001b[38;5;241m1\u001b[39m, \u001b[38;5;241m0\u001b[39m)\n",
      "File \u001b[0;32m~/anaconda3/lib/python3.11/site-packages/fairsearchcore/fail_prob.py:132\u001b[0m, in \u001b[0;36mRecursiveNumericFailProbabilityCalculator._find_legal_assignments_aux\u001b[0;34m(self, number_of_candidates, block_sizes, current_block_number, candidates_assigned_so_far)\u001b[0m\n\u001b[1;32m    129\u001b[0m \u001b[38;5;28;01mfor\u001b[39;00m items_this_block \u001b[38;5;129;01min\u001b[39;00m \u001b[38;5;28mrange\u001b[39m(min_needed_this_block, max_possible_this_block \u001b[38;5;241m+\u001b[39m \u001b[38;5;241m1\u001b[39m):\n\u001b[1;32m    130\u001b[0m     new_remaining_candidates \u001b[38;5;241m=\u001b[39m number_of_candidates \u001b[38;5;241m-\u001b[39m items_this_block\n\u001b[0;32m--> 132\u001b[0m     suffixes \u001b[38;5;241m=\u001b[39m \u001b[38;5;28mself\u001b[39m\u001b[38;5;241m.\u001b[39m_calculate_legal_assignments_aux(new_remaining_candidates, new_remaining_block_sizes,\n\u001b[1;32m    133\u001b[0m                                                      current_block_number \u001b[38;5;241m+\u001b[39m \u001b[38;5;241m1\u001b[39m,\n\u001b[1;32m    134\u001b[0m                                                      candidates_assigned_so_far \u001b[38;5;241m+\u001b[39m items_this_block)\n\u001b[1;32m    136\u001b[0m     assignments \u001b[38;5;241m+\u001b[39m\u001b[38;5;241m=\u001b[39m \u001b[38;5;28mself\u001b[39m\u001b[38;5;241m.\u001b[39mget_from_pmf_cache(max_possible_this_block, items_this_block) \u001b[38;5;241m*\u001b[39m suffixes\n\u001b[1;32m    138\u001b[0m \u001b[38;5;28;01mreturn\u001b[39;00m assignments\n",
      "File \u001b[0;32m~/anaconda3/lib/python3.11/site-packages/fairsearchcore/fail_prob.py:145\u001b[0m, in \u001b[0;36mRecursiveNumericFailProbabilityCalculator._calculate_legal_assignments_aux\u001b[0;34m(self, remaining_candidates, remaining_block_sizes, current_block_number, candidates_assigned_so_far)\u001b[0m\n\u001b[1;32m    140\u001b[0m \u001b[38;5;28;01mdef\u001b[39;00m \u001b[38;5;21m_calculate_legal_assignments_aux\u001b[39m(\u001b[38;5;28mself\u001b[39m, remaining_candidates, remaining_block_sizes,\n\u001b[1;32m    141\u001b[0m                                      current_block_number, candidates_assigned_so_far):\n\u001b[1;32m    142\u001b[0m     key \u001b[38;5;241m=\u001b[39m LegalAssignmentKey(remaining_candidates, remaining_block_sizes,\n\u001b[1;32m    143\u001b[0m                              current_block_number, candidates_assigned_so_far)\n\u001b[0;32m--> 145\u001b[0m     \u001b[38;5;28;01mif\u001b[39;00m \u001b[38;5;129;01mnot\u001b[39;00m key \u001b[38;5;129;01min\u001b[39;00m \u001b[38;5;28mself\u001b[39m\u001b[38;5;241m.\u001b[39mlegal_assignment_cache:\n\u001b[1;32m    146\u001b[0m         \u001b[38;5;28mself\u001b[39m\u001b[38;5;241m.\u001b[39mlegal_assignment_cache[key] \u001b[38;5;241m=\u001b[39m \u001b[38;5;28mself\u001b[39m\u001b[38;5;241m.\u001b[39m_find_legal_assignments_aux(remaining_candidates,\n\u001b[1;32m    147\u001b[0m                                                                             remaining_block_sizes,\n\u001b[1;32m    148\u001b[0m                                                                             current_block_number,\n\u001b[1;32m    149\u001b[0m                                                                             candidates_assigned_so_far)\n\u001b[1;32m    151\u001b[0m     \u001b[38;5;28;01mreturn\u001b[39;00m \u001b[38;5;28mself\u001b[39m\u001b[38;5;241m.\u001b[39mlegal_assignment_cache[key]\n",
      "\u001b[0;31mTypeError\u001b[0m: __hash__ method should return an integer"
     ]
    }
   ],
   "source": [
    "# import the FairScoreDoc class\n",
    "from fairsearchcore.models import FairScoreDoc\n",
    "\n",
    "# let's manually create an unfair ranking (False -> unprotected, True -> protected)\n",
    "# in this example the first document (docid=20) has a score of 20, the last document (docid=1) a score of 1\n",
    "unfair_ranking = [FairScoreDoc(20, 20, False), FairScoreDoc(19, 19, False), FairScoreDoc(18, 18, False),\n",
    "                      FairScoreDoc(17, 17, False), FairScoreDoc(16, 16, False), FairScoreDoc(15, 15, False),\n",
    "                      FairScoreDoc(14, 14, False), FairScoreDoc(13, 13, False), FairScoreDoc(12, 12, False),\n",
    "                      FairScoreDoc(11, 11, False), FairScoreDoc(10, 10, False), FairScoreDoc(9, 9, False),\n",
    "                      FairScoreDoc(8, 8, False), FairScoreDoc(7, 7, False), FairScoreDoc(6, 6, True),\n",
    "                      FairScoreDoc(5, 5, True), FairScoreDoc(4, 4, True), FairScoreDoc(3, 3, True),\n",
    "                      FairScoreDoc(2, 2, True), FairScoreDoc(1, 1, True)]\n",
    "                      \n",
    "# let's check the ranking is considered fair\n",
    "fair.is_fair(unfair_ranking)\n",
    "\n",
    "\n",
    "# now re-rank the unfair ranking                 \n",
    "re_ranked = fair.re_rank(unfair_ranking)\n",
    "\n",
    "# now let's see if the new ranking is fair\n",
    "fair.is_fair(re_ranked)\n",
    "\n"
   ]
  },
  {
   "cell_type": "code",
   "execution_count": null,
   "id": "70c7656a",
   "metadata": {},
   "outputs": [],
   "source": []
  }
 ],
 "metadata": {
  "kernelspec": {
   "display_name": "Python 3 (ipykernel)",
   "language": "python",
   "name": "python3"
  },
  "language_info": {
   "codemirror_mode": {
    "name": "ipython",
    "version": 3
   },
   "file_extension": ".py",
   "mimetype": "text/x-python",
   "name": "python",
   "nbconvert_exporter": "python",
   "pygments_lexer": "ipython3",
   "version": "3.11.5"
  }
 },
 "nbformat": 4,
 "nbformat_minor": 5
}
