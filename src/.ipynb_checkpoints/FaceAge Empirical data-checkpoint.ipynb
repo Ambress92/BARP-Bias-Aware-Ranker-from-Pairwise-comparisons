{
 "cells": [
  {
   "cell_type": "code",
   "execution_count": 1,
   "id": "irish-station",
   "metadata": {},
   "outputs": [],
   "source": [
    "import scipy.io\n",
    "import numpy as np\n",
    "import pandas as pd"
   ]
  },
  {
   "cell_type": "code",
   "execution_count": 2,
   "id": "central-taste",
   "metadata": {},
   "outputs": [],
   "source": [
    "# Load MATLAB file\n",
    "wiki = scipy.io.loadmat('../../Data for BARP/data/wiki.mat')"
   ]
  },
  {
   "cell_type": "code",
   "execution_count": 3,
   "id": "capable-favorite",
   "metadata": {},
   "outputs": [
    {
     "data": {
      "text/plain": [
       "{'__header__': b'MATLAB 5.0 MAT-file, Platform: GLNXA64, Created on: Sat Jan 16 16:25:20 2016',\n",
       " '__version__': '1.0',\n",
       " '__globals__': [],\n",
       " 'wiki': array([[(array([[723671, 703186, 711677, ..., 720620, 723893, 713846]], dtype=int32), array([[2009, 1964, 2008, ..., 2013, 2011, 2008]], dtype=uint16), array([[array(['17/10000217_1981-05-05_2009.jpg'], dtype='<U31'),\n",
       "                 array(['48/10000548_1925-04-04_1964.jpg'], dtype='<U31'),\n",
       "                 array(['12/100012_1948-07-03_2008.jpg'], dtype='<U29'), ...,\n",
       "                 array(['09/9998109_1972-12-27_2013.jpg'], dtype='<U30'),\n",
       "                 array(['00/9999400_1981-12-13_2011.jpg'], dtype='<U30'),\n",
       "                 array(['80/999980_1954-06-11_2008.jpg'], dtype='<U29')]],\n",
       "               dtype=object), array([[1., 1., 1., ..., 1., 1., 0.]]), array([[array(['Sami Jauhojärvi'], dtype='<U15'),\n",
       "                 array(['Dettmar Cramer'], dtype='<U14'),\n",
       "                 array(['Marc Okrand'], dtype='<U11'), ...,\n",
       "                 array(['Michael Wiesinger'], dtype='<U17'),\n",
       "                 array(['Johann Grugger'], dtype='<U14'),\n",
       "                 array(['Greta Van Susteren'], dtype='<U18')]], dtype=object), array([[array([[111.29109473, 111.29109473, 252.66993082, 252.66993082]]),\n",
       "                 array([[252.4833023 , 126.68165115, 354.53192596, 228.73027481]]),\n",
       "                 array([[113.52, 169.84, 366.08, 422.4 ]]), ...,\n",
       "                 array([[169.88839786,  74.31669472, 235.2534231 , 139.68171997]]),\n",
       "                 array([[1, 1, 1, 1]], dtype=uint8),\n",
       "                 array([[ 92.72633235,  62.0435549 , 230.12083087, 199.43805342]])]],\n",
       "               dtype=object), array([[4.30096239, 2.6456395 , 4.32932883, ..., 3.49430317,       -inf,\n",
       "                 5.48691655]]), array([[       nan, 1.94924791,        nan, ...,        nan,        nan,\n",
       "                        nan]]))                                                                                                                                                                                           ]],\n",
       "       dtype=[('dob', 'O'), ('photo_taken', 'O'), ('full_path', 'O'), ('gender', 'O'), ('name', 'O'), ('face_location', 'O'), ('face_score', 'O'), ('second_face_score', 'O')])}"
      ]
     },
     "execution_count": 3,
     "metadata": {},
     "output_type": "execute_result"
    }
   ],
   "source": [
    "wiki"
   ]
  },
  {
   "cell_type": "code",
   "execution_count": 4,
   "id": "fewer-infrastructure",
   "metadata": {},
   "outputs": [
    {
     "ename": "AttributeError",
     "evalue": "'numpy.int32' object has no attribute 'fromordinal'",
     "output_type": "error",
     "traceback": [
      "\u001b[0;31m---------------------------------------------------------------------------\u001b[0m",
      "\u001b[0;31mAttributeError\u001b[0m                            Traceback (most recent call last)",
      "Cell \u001b[0;32mIn[4], line 3\u001b[0m\n\u001b[1;32m      1\u001b[0m \u001b[38;5;28;01mimport\u001b[39;00m \u001b[38;5;21;01mtime\u001b[39;00m\n\u001b[1;32m      2\u001b[0m dob \u001b[38;5;241m=\u001b[39m wiki[\u001b[38;5;124m'\u001b[39m\u001b[38;5;124mwiki\u001b[39m\u001b[38;5;124m'\u001b[39m][\u001b[38;5;124m'\u001b[39m\u001b[38;5;124mdob\u001b[39m\u001b[38;5;124m'\u001b[39m][\u001b[38;5;241m0\u001b[39m][\u001b[38;5;241m0\u001b[39m][\u001b[38;5;241m0\u001b[39m]\n\u001b[0;32m----> 3\u001b[0m dob[\u001b[38;5;241m1\u001b[39m]\u001b[38;5;241m.\u001b[39mfromordinal()\n",
      "\u001b[0;31mAttributeError\u001b[0m: 'numpy.int32' object has no attribute 'fromordinal'"
     ]
    }
   ],
   "source": [
    "import time\n",
    "dob = wiki['wiki']['dob'][0][0][0]\n",
    "dob[1].fromordinal()"
   ]
  },
  {
   "cell_type": "code",
   "execution_count": 5,
   "id": "fifth-affairs",
   "metadata": {},
   "outputs": [],
   "source": [
    "full_path = wiki['wiki']['full_path'][0][0][0]"
   ]
  },
  {
   "cell_type": "code",
   "execution_count": 6,
   "id": "forward-constitutional",
   "metadata": {},
   "outputs": [],
   "source": [
    "new_arr = []\n",
    "\n",
    "# loop over each element in the array\n",
    "for element in full_path:\n",
    "    # split the element into two parts using the '/' character as a separator\n",
    "    parts = element[0].split('/')\n",
    "    # keep the second part (the part after the '/')\n",
    "    new_element = parts[1]\n",
    "    # append the modified element to the new array\n",
    "    new_arr.append(new_element)\n",
    "\n",
    "# convert the list to a numpy array\n",
    "new_arr = np.array(new_arr)"
   ]
  },
  {
   "cell_type": "code",
   "execution_count": 7,
   "id": "considerable-showcase",
   "metadata": {},
   "outputs": [],
   "source": [
    "full_path = new_arr"
   ]
  },
  {
   "cell_type": "code",
   "execution_count": 8,
   "id": "respiratory-pharmaceutical",
   "metadata": {},
   "outputs": [],
   "source": [
    "gender = wiki['wiki']['gender'][0][0][0]"
   ]
  },
  {
   "cell_type": "code",
   "execution_count": 9,
   "id": "shaped-copying",
   "metadata": {},
   "outputs": [],
   "source": [
    "dob = wiki['wiki']['dob'][0][0][0]\n",
    "photo_taken = wiki['wiki']['photo_taken'][0][0][0]"
   ]
  },
  {
   "cell_type": "code",
   "execution_count": 10,
   "id": "homeless-affiliation",
   "metadata": {},
   "outputs": [
    {
     "data": {
      "text/plain": [
       "array([2009, 1964, 2008, ..., 2013, 2011, 2008], dtype=uint16)"
      ]
     },
     "execution_count": 10,
     "metadata": {},
     "output_type": "execute_result"
    }
   ],
   "source": [
    "photo_taken"
   ]
  },
  {
   "cell_type": "code",
   "execution_count": 11,
   "id": "experienced-institute",
   "metadata": {},
   "outputs": [
    {
     "data": {
      "text/html": [
       "<div>\n",
       "<style scoped>\n",
       "    .dataframe tbody tr th:only-of-type {\n",
       "        vertical-align: middle;\n",
       "    }\n",
       "\n",
       "    .dataframe tbody tr th {\n",
       "        vertical-align: top;\n",
       "    }\n",
       "\n",
       "    .dataframe thead th {\n",
       "        text-align: right;\n",
       "    }\n",
       "</style>\n",
       "<table border=\"1\" class=\"dataframe\">\n",
       "  <thead>\n",
       "    <tr style=\"text-align: right;\">\n",
       "      <th></th>\n",
       "      <th>full_path</th>\n",
       "      <th>gender</th>\n",
       "    </tr>\n",
       "  </thead>\n",
       "  <tbody>\n",
       "    <tr>\n",
       "      <th>0</th>\n",
       "      <td>10000217_1981-05-05_2009.jpg</td>\n",
       "      <td>1.0</td>\n",
       "    </tr>\n",
       "    <tr>\n",
       "      <th>1</th>\n",
       "      <td>10000548_1925-04-04_1964.jpg</td>\n",
       "      <td>1.0</td>\n",
       "    </tr>\n",
       "    <tr>\n",
       "      <th>2</th>\n",
       "      <td>100012_1948-07-03_2008.jpg</td>\n",
       "      <td>1.0</td>\n",
       "    </tr>\n",
       "    <tr>\n",
       "      <th>3</th>\n",
       "      <td>10001965_1930-05-23_1961.jpg</td>\n",
       "      <td>1.0</td>\n",
       "    </tr>\n",
       "    <tr>\n",
       "      <th>4</th>\n",
       "      <td>10002116_1971-05-31_2012.jpg</td>\n",
       "      <td>0.0</td>\n",
       "    </tr>\n",
       "    <tr>\n",
       "      <th>...</th>\n",
       "      <td>...</td>\n",
       "      <td>...</td>\n",
       "    </tr>\n",
       "    <tr>\n",
       "      <th>62223</th>\n",
       "      <td>5995253_1964-01-29_1960.jpg</td>\n",
       "      <td>1.0</td>\n",
       "    </tr>\n",
       "    <tr>\n",
       "      <th>62224</th>\n",
       "      <td>5995389_1950-11-25_1950.jpg</td>\n",
       "      <td>1.0</td>\n",
       "    </tr>\n",
       "    <tr>\n",
       "      <th>62225</th>\n",
       "      <td>599555_1943-07-28_1968.jpg</td>\n",
       "      <td>1.0</td>\n",
       "    </tr>\n",
       "    <tr>\n",
       "      <th>62226</th>\n",
       "      <td>599593_1982-05-09_2012.jpg</td>\n",
       "      <td>0.0</td>\n",
       "    </tr>\n",
       "    <tr>\n",
       "      <th>62227</th>\n",
       "      <td>599665_1944-04-28_2015.jpg</td>\n",
       "      <td>0.0</td>\n",
       "    </tr>\n",
       "  </tbody>\n",
       "</table>\n",
       "<p>62228 rows × 2 columns</p>\n",
       "</div>"
      ],
      "text/plain": [
       "                          full_path  gender\n",
       "0      10000217_1981-05-05_2009.jpg     1.0\n",
       "1      10000548_1925-04-04_1964.jpg     1.0\n",
       "2        100012_1948-07-03_2008.jpg     1.0\n",
       "3      10001965_1930-05-23_1961.jpg     1.0\n",
       "4      10002116_1971-05-31_2012.jpg     0.0\n",
       "...                             ...     ...\n",
       "62223   5995253_1964-01-29_1960.jpg     1.0\n",
       "62224   5995389_1950-11-25_1950.jpg     1.0\n",
       "62225    599555_1943-07-28_1968.jpg     1.0\n",
       "62226    599593_1982-05-09_2012.jpg     0.0\n",
       "62227    599665_1944-04-28_2015.jpg     0.0\n",
       "\n",
       "[62228 rows x 2 columns]"
      ]
     },
     "execution_count": 11,
     "metadata": {},
     "output_type": "execute_result"
    }
   ],
   "source": [
    "wiki_df = pd.DataFrame({'full_path': full_path, 'gender': gender})\n",
    "wiki_df.head(-100)"
   ]
  },
  {
   "cell_type": "code",
   "execution_count": 12,
   "id": "packed-prophet",
   "metadata": {},
   "outputs": [
    {
     "ename": "FileNotFoundError",
     "evalue": "[Errno 2] No such file or directory: '../data/imdb.mat'",
     "output_type": "error",
     "traceback": [
      "\u001b[0;31m---------------------------------------------------------------------------\u001b[0m",
      "\u001b[0;31mFileNotFoundError\u001b[0m                         Traceback (most recent call last)",
      "File \u001b[0;32m~/anaconda3/lib/python3.11/site-packages/scipy/io/matlab/_mio.py:39\u001b[0m, in \u001b[0;36m_open_file\u001b[0;34m(file_like, appendmat, mode)\u001b[0m\n\u001b[1;32m     38\u001b[0m \u001b[38;5;28;01mtry\u001b[39;00m:\n\u001b[0;32m---> 39\u001b[0m     \u001b[38;5;28;01mreturn\u001b[39;00m \u001b[38;5;28mopen\u001b[39m(file_like, mode), \u001b[38;5;28;01mTrue\u001b[39;00m\n\u001b[1;32m     40\u001b[0m \u001b[38;5;28;01mexcept\u001b[39;00m \u001b[38;5;167;01mOSError\u001b[39;00m \u001b[38;5;28;01mas\u001b[39;00m e:\n\u001b[1;32m     41\u001b[0m     \u001b[38;5;66;03m# Probably \"not found\"\u001b[39;00m\n",
      "\u001b[0;31mFileNotFoundError\u001b[0m: [Errno 2] No such file or directory: '../data/imdb.mat'",
      "\nDuring handling of the above exception, another exception occurred:\n",
      "\u001b[0;31mFileNotFoundError\u001b[0m                         Traceback (most recent call last)",
      "Cell \u001b[0;32mIn[12], line 1\u001b[0m\n\u001b[0;32m----> 1\u001b[0m imdb \u001b[38;5;241m=\u001b[39m scipy\u001b[38;5;241m.\u001b[39mio\u001b[38;5;241m.\u001b[39mloadmat(\u001b[38;5;124m'\u001b[39m\u001b[38;5;124m../data/imdb.mat\u001b[39m\u001b[38;5;124m'\u001b[39m)\n",
      "File \u001b[0;32m~/anaconda3/lib/python3.11/site-packages/scipy/io/matlab/_mio.py:225\u001b[0m, in \u001b[0;36mloadmat\u001b[0;34m(file_name, mdict, appendmat, **kwargs)\u001b[0m\n\u001b[1;32m     88\u001b[0m \u001b[38;5;250m\u001b[39m\u001b[38;5;124;03m\"\"\"\u001b[39;00m\n\u001b[1;32m     89\u001b[0m \u001b[38;5;124;03mLoad MATLAB file.\u001b[39;00m\n\u001b[1;32m     90\u001b[0m \n\u001b[0;32m   (...)\u001b[0m\n\u001b[1;32m    222\u001b[0m \u001b[38;5;124;03m    3.14159265+3.14159265j])\u001b[39;00m\n\u001b[1;32m    223\u001b[0m \u001b[38;5;124;03m\"\"\"\u001b[39;00m\n\u001b[1;32m    224\u001b[0m variable_names \u001b[38;5;241m=\u001b[39m kwargs\u001b[38;5;241m.\u001b[39mpop(\u001b[38;5;124m'\u001b[39m\u001b[38;5;124mvariable_names\u001b[39m\u001b[38;5;124m'\u001b[39m, \u001b[38;5;28;01mNone\u001b[39;00m)\n\u001b[0;32m--> 225\u001b[0m \u001b[38;5;28;01mwith\u001b[39;00m _open_file_context(file_name, appendmat) \u001b[38;5;28;01mas\u001b[39;00m f:\n\u001b[1;32m    226\u001b[0m     MR, _ \u001b[38;5;241m=\u001b[39m mat_reader_factory(f, \u001b[38;5;241m*\u001b[39m\u001b[38;5;241m*\u001b[39mkwargs)\n\u001b[1;32m    227\u001b[0m     matfile_dict \u001b[38;5;241m=\u001b[39m MR\u001b[38;5;241m.\u001b[39mget_variables(variable_names)\n",
      "File \u001b[0;32m~/anaconda3/lib/python3.11/contextlib.py:137\u001b[0m, in \u001b[0;36m_GeneratorContextManager.__enter__\u001b[0;34m(self)\u001b[0m\n\u001b[1;32m    135\u001b[0m \u001b[38;5;28;01mdel\u001b[39;00m \u001b[38;5;28mself\u001b[39m\u001b[38;5;241m.\u001b[39margs, \u001b[38;5;28mself\u001b[39m\u001b[38;5;241m.\u001b[39mkwds, \u001b[38;5;28mself\u001b[39m\u001b[38;5;241m.\u001b[39mfunc\n\u001b[1;32m    136\u001b[0m \u001b[38;5;28;01mtry\u001b[39;00m:\n\u001b[0;32m--> 137\u001b[0m     \u001b[38;5;28;01mreturn\u001b[39;00m \u001b[38;5;28mnext\u001b[39m(\u001b[38;5;28mself\u001b[39m\u001b[38;5;241m.\u001b[39mgen)\n\u001b[1;32m    138\u001b[0m \u001b[38;5;28;01mexcept\u001b[39;00m \u001b[38;5;167;01mStopIteration\u001b[39;00m:\n\u001b[1;32m    139\u001b[0m     \u001b[38;5;28;01mraise\u001b[39;00m \u001b[38;5;167;01mRuntimeError\u001b[39;00m(\u001b[38;5;124m\"\u001b[39m\u001b[38;5;124mgenerator didn\u001b[39m\u001b[38;5;124m'\u001b[39m\u001b[38;5;124mt yield\u001b[39m\u001b[38;5;124m\"\u001b[39m) \u001b[38;5;28;01mfrom\u001b[39;00m \u001b[38;5;28;01mNone\u001b[39;00m\n",
      "File \u001b[0;32m~/anaconda3/lib/python3.11/site-packages/scipy/io/matlab/_mio.py:17\u001b[0m, in \u001b[0;36m_open_file_context\u001b[0;34m(file_like, appendmat, mode)\u001b[0m\n\u001b[1;32m     15\u001b[0m \u001b[38;5;129m@contextmanager\u001b[39m\n\u001b[1;32m     16\u001b[0m \u001b[38;5;28;01mdef\u001b[39;00m \u001b[38;5;21m_open_file_context\u001b[39m(file_like, appendmat, mode\u001b[38;5;241m=\u001b[39m\u001b[38;5;124m'\u001b[39m\u001b[38;5;124mrb\u001b[39m\u001b[38;5;124m'\u001b[39m):\n\u001b[0;32m---> 17\u001b[0m     f, opened \u001b[38;5;241m=\u001b[39m _open_file(file_like, appendmat, mode)\n\u001b[1;32m     18\u001b[0m     \u001b[38;5;28;01mtry\u001b[39;00m:\n\u001b[1;32m     19\u001b[0m         \u001b[38;5;28;01myield\u001b[39;00m f\n",
      "File \u001b[0;32m~/anaconda3/lib/python3.11/site-packages/scipy/io/matlab/_mio.py:45\u001b[0m, in \u001b[0;36m_open_file\u001b[0;34m(file_like, appendmat, mode)\u001b[0m\n\u001b[1;32m     43\u001b[0m     \u001b[38;5;28;01mif\u001b[39;00m appendmat \u001b[38;5;129;01mand\u001b[39;00m \u001b[38;5;129;01mnot\u001b[39;00m file_like\u001b[38;5;241m.\u001b[39mendswith(\u001b[38;5;124m'\u001b[39m\u001b[38;5;124m.mat\u001b[39m\u001b[38;5;124m'\u001b[39m):\n\u001b[1;32m     44\u001b[0m         file_like \u001b[38;5;241m+\u001b[39m\u001b[38;5;241m=\u001b[39m \u001b[38;5;124m'\u001b[39m\u001b[38;5;124m.mat\u001b[39m\u001b[38;5;124m'\u001b[39m\n\u001b[0;32m---> 45\u001b[0m     \u001b[38;5;28;01mreturn\u001b[39;00m \u001b[38;5;28mopen\u001b[39m(file_like, mode), \u001b[38;5;28;01mTrue\u001b[39;00m\n\u001b[1;32m     46\u001b[0m \u001b[38;5;28;01melse\u001b[39;00m:\n\u001b[1;32m     47\u001b[0m     \u001b[38;5;28;01mraise\u001b[39;00m \u001b[38;5;167;01mOSError\u001b[39;00m(\n\u001b[1;32m     48\u001b[0m         \u001b[38;5;124m'\u001b[39m\u001b[38;5;124mReader needs file name or open file-like object\u001b[39m\u001b[38;5;124m'\u001b[39m\n\u001b[1;32m     49\u001b[0m     ) \u001b[38;5;28;01mfrom\u001b[39;00m \u001b[38;5;21;01me\u001b[39;00m\n",
      "\u001b[0;31mFileNotFoundError\u001b[0m: [Errno 2] No such file or directory: '../data/imdb.mat'"
     ]
    }
   ],
   "source": [
    "imdb = scipy.io.loadmat('../../Data for BARP/data/imdb.mat')"
   ]
  },
  {
   "cell_type": "code",
   "execution_count": 157,
   "id": "knowing-franchise",
   "metadata": {},
   "outputs": [],
   "source": [
    "full_path = imdb['imdb']['full_path'][0][0][0]"
   ]
  },
  {
   "cell_type": "code",
   "execution_count": 158,
   "id": "liable-antenna",
   "metadata": {},
   "outputs": [],
   "source": [
    "new_arr = []\n",
    "\n",
    "# loop over each element in the array\n",
    "for element in full_path:\n",
    "    # split the element into two parts using the '/' character as a separator\n",
    "    parts = element[0].split('/')\n",
    "    # keep the second part (the part after the '/')\n",
    "    new_element = parts[1]\n",
    "    # append the modified element to the new array\n",
    "    new_arr.append(new_element)\n",
    "\n",
    "# convert the list to a numpy array\n",
    "new_arr = np.array(new_arr)"
   ]
  },
  {
   "cell_type": "code",
   "execution_count": 159,
   "id": "proud-desktop",
   "metadata": {},
   "outputs": [],
   "source": [
    "full_path = new_arr"
   ]
  },
  {
   "cell_type": "code",
   "execution_count": 161,
   "id": "labeled-china",
   "metadata": {},
   "outputs": [],
   "source": [
    "dob = imdb['imdb']['dob'][0][0][0]\n",
    "photo_taken = imdb['imdb']['photo_taken'][0][0][0]"
   ]
  },
  {
   "cell_type": "code",
   "execution_count": 162,
   "id": "urban-claim",
   "metadata": {},
   "outputs": [],
   "source": [
    "gender = imdb['imdb']['gender'][0][0][0]"
   ]
  },
  {
   "cell_type": "code",
   "execution_count": 163,
   "id": "crude-stevens",
   "metadata": {},
   "outputs": [
    {
     "data": {
      "text/html": [
       "<div>\n",
       "<style scoped>\n",
       "    .dataframe tbody tr th:only-of-type {\n",
       "        vertical-align: middle;\n",
       "    }\n",
       "\n",
       "    .dataframe tbody tr th {\n",
       "        vertical-align: top;\n",
       "    }\n",
       "\n",
       "    .dataframe thead th {\n",
       "        text-align: right;\n",
       "    }\n",
       "</style>\n",
       "<table border=\"1\" class=\"dataframe\">\n",
       "  <thead>\n",
       "    <tr style=\"text-align: right;\">\n",
       "      <th></th>\n",
       "      <th>full_path</th>\n",
       "      <th>gender</th>\n",
       "    </tr>\n",
       "  </thead>\n",
       "  <tbody>\n",
       "    <tr>\n",
       "      <th>0</th>\n",
       "      <td>nm0000001_rm124825600_1899-5-10_1968.jpg</td>\n",
       "      <td>1.0</td>\n",
       "    </tr>\n",
       "    <tr>\n",
       "      <th>1</th>\n",
       "      <td>nm0000001_rm3343756032_1899-5-10_1970.jpg</td>\n",
       "      <td>1.0</td>\n",
       "    </tr>\n",
       "    <tr>\n",
       "      <th>2</th>\n",
       "      <td>nm0000001_rm577153792_1899-5-10_1968.jpg</td>\n",
       "      <td>1.0</td>\n",
       "    </tr>\n",
       "    <tr>\n",
       "      <th>3</th>\n",
       "      <td>nm0000001_rm946909184_1899-5-10_1968.jpg</td>\n",
       "      <td>1.0</td>\n",
       "    </tr>\n",
       "    <tr>\n",
       "      <th>4</th>\n",
       "      <td>nm0000001_rm980463616_1899-5-10_1968.jpg</td>\n",
       "      <td>1.0</td>\n",
       "    </tr>\n",
       "  </tbody>\n",
       "</table>\n",
       "</div>"
      ],
      "text/plain": [
       "                                   full_path  gender\n",
       "0   nm0000001_rm124825600_1899-5-10_1968.jpg     1.0\n",
       "1  nm0000001_rm3343756032_1899-5-10_1970.jpg     1.0\n",
       "2   nm0000001_rm577153792_1899-5-10_1968.jpg     1.0\n",
       "3   nm0000001_rm946909184_1899-5-10_1968.jpg     1.0\n",
       "4   nm0000001_rm980463616_1899-5-10_1968.jpg     1.0"
      ]
     },
     "execution_count": 163,
     "metadata": {},
     "output_type": "execute_result"
    }
   ],
   "source": [
    "imdb_df = pd.DataFrame({'full_path': full_path, 'gender': gender})\n",
    "imdb_df.head()"
   ]
  },
  {
   "cell_type": "code",
   "execution_count": 34,
   "id": "eastern-andorra",
   "metadata": {},
   "outputs": [
    {
     "data": {
      "text/plain": [
       "460723"
      ]
     },
     "execution_count": 34,
     "metadata": {},
     "output_type": "execute_result"
    }
   ],
   "source": [
    "len(imdb_df)"
   ]
  },
  {
   "cell_type": "code",
   "execution_count": 35,
   "id": "wooden-southeast",
   "metadata": {},
   "outputs": [
    {
     "data": {
      "text/plain": [
       "62328"
      ]
     },
     "execution_count": 35,
     "metadata": {},
     "output_type": "execute_result"
    }
   ],
   "source": [
    "len(wiki_df)"
   ]
  },
  {
   "cell_type": "code",
   "execution_count": 39,
   "id": "conservative-concrete",
   "metadata": {},
   "outputs": [],
   "source": [
    "# concatenate the two dataframes\n",
    "df1 = pd.concat([imdb_df, wiki_df])\n",
    "\n",
    "# reset the index\n",
    "df1 = df.reset_index(drop=True)"
   ]
  },
  {
   "cell_type": "code",
   "execution_count": 40,
   "id": "extensive-chamber",
   "metadata": {
    "scrolled": true
   },
   "outputs": [
    {
     "data": {
      "text/html": [
       "<div>\n",
       "<style scoped>\n",
       "    .dataframe tbody tr th:only-of-type {\n",
       "        vertical-align: middle;\n",
       "    }\n",
       "\n",
       "    .dataframe tbody tr th {\n",
       "        vertical-align: top;\n",
       "    }\n",
       "\n",
       "    .dataframe thead th {\n",
       "        text-align: right;\n",
       "    }\n",
       "</style>\n",
       "<table border=\"1\" class=\"dataframe\">\n",
       "  <thead>\n",
       "    <tr style=\"text-align: right;\">\n",
       "      <th></th>\n",
       "      <th>full_path</th>\n",
       "      <th>gender</th>\n",
       "    </tr>\n",
       "  </thead>\n",
       "  <tbody>\n",
       "    <tr>\n",
       "      <th>0</th>\n",
       "      <td>nm0000001_rm124825600_1899-5-10_1968.jpg</td>\n",
       "      <td>1.0</td>\n",
       "    </tr>\n",
       "    <tr>\n",
       "      <th>1</th>\n",
       "      <td>nm0000001_rm3343756032_1899-5-10_1970.jpg</td>\n",
       "      <td>1.0</td>\n",
       "    </tr>\n",
       "    <tr>\n",
       "      <th>2</th>\n",
       "      <td>nm0000001_rm577153792_1899-5-10_1968.jpg</td>\n",
       "      <td>1.0</td>\n",
       "    </tr>\n",
       "    <tr>\n",
       "      <th>3</th>\n",
       "      <td>nm0000001_rm946909184_1899-5-10_1968.jpg</td>\n",
       "      <td>1.0</td>\n",
       "    </tr>\n",
       "    <tr>\n",
       "      <th>4</th>\n",
       "      <td>nm0000001_rm980463616_1899-5-10_1968.jpg</td>\n",
       "      <td>1.0</td>\n",
       "    </tr>\n",
       "    <tr>\n",
       "      <th>...</th>\n",
       "      <td>...</td>\n",
       "      <td>...</td>\n",
       "    </tr>\n",
       "    <tr>\n",
       "      <th>523046</th>\n",
       "      <td>9996949_1937-04-17_1963.jpg</td>\n",
       "      <td>1.0</td>\n",
       "    </tr>\n",
       "    <tr>\n",
       "      <th>523047</th>\n",
       "      <td>9997032_1947-07-30_1970.jpg</td>\n",
       "      <td>1.0</td>\n",
       "    </tr>\n",
       "    <tr>\n",
       "      <th>523048</th>\n",
       "      <td>9998109_1972-12-27_2013.jpg</td>\n",
       "      <td>1.0</td>\n",
       "    </tr>\n",
       "    <tr>\n",
       "      <th>523049</th>\n",
       "      <td>9999400_1981-12-13_2011.jpg</td>\n",
       "      <td>1.0</td>\n",
       "    </tr>\n",
       "    <tr>\n",
       "      <th>523050</th>\n",
       "      <td>999980_1954-06-11_2008.jpg</td>\n",
       "      <td>0.0</td>\n",
       "    </tr>\n",
       "  </tbody>\n",
       "</table>\n",
       "<p>523051 rows × 2 columns</p>\n",
       "</div>"
      ],
      "text/plain": [
       "                                        full_path  gender\n",
       "0        nm0000001_rm124825600_1899-5-10_1968.jpg     1.0\n",
       "1       nm0000001_rm3343756032_1899-5-10_1970.jpg     1.0\n",
       "2        nm0000001_rm577153792_1899-5-10_1968.jpg     1.0\n",
       "3        nm0000001_rm946909184_1899-5-10_1968.jpg     1.0\n",
       "4        nm0000001_rm980463616_1899-5-10_1968.jpg     1.0\n",
       "...                                           ...     ...\n",
       "523046                9996949_1937-04-17_1963.jpg     1.0\n",
       "523047                9997032_1947-07-30_1970.jpg     1.0\n",
       "523048                9998109_1972-12-27_2013.jpg     1.0\n",
       "523049                9999400_1981-12-13_2011.jpg     1.0\n",
       "523050                 999980_1954-06-11_2008.jpg     0.0\n",
       "\n",
       "[523051 rows x 2 columns]"
      ]
     },
     "execution_count": 40,
     "metadata": {},
     "output_type": "execute_result"
    }
   ],
   "source": [
    "df1"
   ]
  },
  {
   "cell_type": "code",
   "execution_count": 50,
   "id": "altered-currency",
   "metadata": {},
   "outputs": [],
   "source": [
    "df2 = pd.read_csv('../data/gt.csv')\n",
    "\n",
    "# set the display option to show the full contents of the first column\n",
    "pd.set_option('display.max_colwidth', None)"
   ]
  },
  {
   "cell_type": "code",
   "execution_count": 51,
   "id": "quick-thompson",
   "metadata": {},
   "outputs": [
    {
     "data": {
      "text/plain": [
       "0       https://tlk.s3.yandex.net/annotation_tasks/IMDB-WIKI-SbS/nm1442940_rm3965098752_1996-10-3_2006.jpg\n",
       "1       https://tlk.s3.yandex.net/annotation_tasks/IMDB-WIKI-SbS/nm4832920_rm1781768448_2003-8-28_2013.jpg\n",
       "2        https://tlk.s3.yandex.net/annotation_tasks/IMDB-WIKI-SbS/nm0652089_rm860657920_1992-3-10_2002.jpg\n",
       "3       https://tlk.s3.yandex.net/annotation_tasks/IMDB-WIKI-SbS/nm0004917_rm1493730304_1969-5-12_1979.jpg\n",
       "4       https://tlk.s3.yandex.net/annotation_tasks/IMDB-WIKI-SbS/nm1113550_rm1332711936_1996-4-14_2006.jpg\n",
       "                                                       ...                                                \n",
       "9145                   https://tlk.s3.yandex.net/annotation_tasks/IMDB-WIKI-SbS/475367_1941-08-03_2011.jpg\n",
       "9146                   https://tlk.s3.yandex.net/annotation_tasks/IMDB-WIKI-SbS/304085_1919-07-07_1989.jpg\n",
       "9147    https://tlk.s3.yandex.net/annotation_tasks/IMDB-WIKI-SbS/nm0001627_rm4164078592_1927-2-20_1997.jpg\n",
       "9148    https://tlk.s3.yandex.net/annotation_tasks/IMDB-WIKI-SbS/nm0000024_rm1715129344_1904-4-14_1974.jpg\n",
       "9149    https://tlk.s3.yandex.net/annotation_tasks/IMDB-WIKI-SbS/nm0000323_rm3114703104_1933-3-14_2003.jpg\n",
       "Name: label, Length: 9150, dtype: object"
      ]
     },
     "execution_count": 51,
     "metadata": {},
     "output_type": "execute_result"
    }
   ],
   "source": [
    "df2['label']"
   ]
  },
  {
   "cell_type": "code",
   "execution_count": 59,
   "id": "packed-kidney",
   "metadata": {},
   "outputs": [],
   "source": [
    "df2['full_path'] = df2['label'].apply(lambda x: x.split('/')[-1])\n",
    "df2 = df2.drop(columns=['label'])"
   ]
  },
  {
   "cell_type": "code",
   "execution_count": 60,
   "id": "behavioral-valentine",
   "metadata": {},
   "outputs": [
    {
     "data": {
      "text/html": [
       "<div>\n",
       "<style scoped>\n",
       "    .dataframe tbody tr th:only-of-type {\n",
       "        vertical-align: middle;\n",
       "    }\n",
       "\n",
       "    .dataframe tbody tr th {\n",
       "        vertical-align: top;\n",
       "    }\n",
       "\n",
       "    .dataframe thead th {\n",
       "        text-align: right;\n",
       "    }\n",
       "</style>\n",
       "<table border=\"1\" class=\"dataframe\">\n",
       "  <thead>\n",
       "    <tr style=\"text-align: right;\">\n",
       "      <th></th>\n",
       "      <th>score</th>\n",
       "      <th>full_path</th>\n",
       "    </tr>\n",
       "  </thead>\n",
       "  <tbody>\n",
       "    <tr>\n",
       "      <th>0</th>\n",
       "      <td>10</td>\n",
       "      <td>nm1442940_rm3965098752_1996-10-3_2006.jpg</td>\n",
       "    </tr>\n",
       "    <tr>\n",
       "      <th>1</th>\n",
       "      <td>10</td>\n",
       "      <td>nm4832920_rm1781768448_2003-8-28_2013.jpg</td>\n",
       "    </tr>\n",
       "    <tr>\n",
       "      <th>2</th>\n",
       "      <td>10</td>\n",
       "      <td>nm0652089_rm860657920_1992-3-10_2002.jpg</td>\n",
       "    </tr>\n",
       "    <tr>\n",
       "      <th>3</th>\n",
       "      <td>10</td>\n",
       "      <td>nm0004917_rm1493730304_1969-5-12_1979.jpg</td>\n",
       "    </tr>\n",
       "    <tr>\n",
       "      <th>4</th>\n",
       "      <td>10</td>\n",
       "      <td>nm1113550_rm1332711936_1996-4-14_2006.jpg</td>\n",
       "    </tr>\n",
       "    <tr>\n",
       "      <th>...</th>\n",
       "      <td>...</td>\n",
       "      <td>...</td>\n",
       "    </tr>\n",
       "    <tr>\n",
       "      <th>9145</th>\n",
       "      <td>70</td>\n",
       "      <td>475367_1941-08-03_2011.jpg</td>\n",
       "    </tr>\n",
       "    <tr>\n",
       "      <th>9146</th>\n",
       "      <td>70</td>\n",
       "      <td>304085_1919-07-07_1989.jpg</td>\n",
       "    </tr>\n",
       "    <tr>\n",
       "      <th>9147</th>\n",
       "      <td>70</td>\n",
       "      <td>nm0001627_rm4164078592_1927-2-20_1997.jpg</td>\n",
       "    </tr>\n",
       "    <tr>\n",
       "      <th>9148</th>\n",
       "      <td>70</td>\n",
       "      <td>nm0000024_rm1715129344_1904-4-14_1974.jpg</td>\n",
       "    </tr>\n",
       "    <tr>\n",
       "      <th>9149</th>\n",
       "      <td>70</td>\n",
       "      <td>nm0000323_rm3114703104_1933-3-14_2003.jpg</td>\n",
       "    </tr>\n",
       "  </tbody>\n",
       "</table>\n",
       "<p>9150 rows × 2 columns</p>\n",
       "</div>"
      ],
      "text/plain": [
       "      score                                  full_path\n",
       "0        10  nm1442940_rm3965098752_1996-10-3_2006.jpg\n",
       "1        10  nm4832920_rm1781768448_2003-8-28_2013.jpg\n",
       "2        10   nm0652089_rm860657920_1992-3-10_2002.jpg\n",
       "3        10  nm0004917_rm1493730304_1969-5-12_1979.jpg\n",
       "4        10  nm1113550_rm1332711936_1996-4-14_2006.jpg\n",
       "...     ...                                        ...\n",
       "9145     70                 475367_1941-08-03_2011.jpg\n",
       "9146     70                 304085_1919-07-07_1989.jpg\n",
       "9147     70  nm0001627_rm4164078592_1927-2-20_1997.jpg\n",
       "9148     70  nm0000024_rm1715129344_1904-4-14_1974.jpg\n",
       "9149     70  nm0000323_rm3114703104_1933-3-14_2003.jpg\n",
       "\n",
       "[9150 rows x 2 columns]"
      ]
     },
     "execution_count": 60,
     "metadata": {},
     "output_type": "execute_result"
    }
   ],
   "source": [
    "df2"
   ]
  },
  {
   "cell_type": "code",
   "execution_count": 55,
   "id": "linear-championship",
   "metadata": {},
   "outputs": [
    {
     "data": {
      "text/html": [
       "<div>\n",
       "<style scoped>\n",
       "    .dataframe tbody tr th:only-of-type {\n",
       "        vertical-align: middle;\n",
       "    }\n",
       "\n",
       "    .dataframe tbody tr th {\n",
       "        vertical-align: top;\n",
       "    }\n",
       "\n",
       "    .dataframe thead th {\n",
       "        text-align: right;\n",
       "    }\n",
       "</style>\n",
       "<table border=\"1\" class=\"dataframe\">\n",
       "  <thead>\n",
       "    <tr style=\"text-align: right;\">\n",
       "      <th></th>\n",
       "      <th>full_path</th>\n",
       "      <th>gender</th>\n",
       "    </tr>\n",
       "  </thead>\n",
       "  <tbody>\n",
       "    <tr>\n",
       "      <th>0</th>\n",
       "      <td>nm0000001_rm124825600_1899-5-10_1968.jpg</td>\n",
       "      <td>1.0</td>\n",
       "    </tr>\n",
       "    <tr>\n",
       "      <th>1</th>\n",
       "      <td>nm0000001_rm3343756032_1899-5-10_1970.jpg</td>\n",
       "      <td>1.0</td>\n",
       "    </tr>\n",
       "    <tr>\n",
       "      <th>2</th>\n",
       "      <td>nm0000001_rm577153792_1899-5-10_1968.jpg</td>\n",
       "      <td>1.0</td>\n",
       "    </tr>\n",
       "    <tr>\n",
       "      <th>3</th>\n",
       "      <td>nm0000001_rm946909184_1899-5-10_1968.jpg</td>\n",
       "      <td>1.0</td>\n",
       "    </tr>\n",
       "    <tr>\n",
       "      <th>4</th>\n",
       "      <td>nm0000001_rm980463616_1899-5-10_1968.jpg</td>\n",
       "      <td>1.0</td>\n",
       "    </tr>\n",
       "    <tr>\n",
       "      <th>...</th>\n",
       "      <td>...</td>\n",
       "      <td>...</td>\n",
       "    </tr>\n",
       "    <tr>\n",
       "      <th>523046</th>\n",
       "      <td>9996949_1937-04-17_1963.jpg</td>\n",
       "      <td>1.0</td>\n",
       "    </tr>\n",
       "    <tr>\n",
       "      <th>523047</th>\n",
       "      <td>9997032_1947-07-30_1970.jpg</td>\n",
       "      <td>1.0</td>\n",
       "    </tr>\n",
       "    <tr>\n",
       "      <th>523048</th>\n",
       "      <td>9998109_1972-12-27_2013.jpg</td>\n",
       "      <td>1.0</td>\n",
       "    </tr>\n",
       "    <tr>\n",
       "      <th>523049</th>\n",
       "      <td>9999400_1981-12-13_2011.jpg</td>\n",
       "      <td>1.0</td>\n",
       "    </tr>\n",
       "    <tr>\n",
       "      <th>523050</th>\n",
       "      <td>999980_1954-06-11_2008.jpg</td>\n",
       "      <td>0.0</td>\n",
       "    </tr>\n",
       "  </tbody>\n",
       "</table>\n",
       "<p>523051 rows × 2 columns</p>\n",
       "</div>"
      ],
      "text/plain": [
       "                                        full_path  gender\n",
       "0        nm0000001_rm124825600_1899-5-10_1968.jpg     1.0\n",
       "1       nm0000001_rm3343756032_1899-5-10_1970.jpg     1.0\n",
       "2        nm0000001_rm577153792_1899-5-10_1968.jpg     1.0\n",
       "3        nm0000001_rm946909184_1899-5-10_1968.jpg     1.0\n",
       "4        nm0000001_rm980463616_1899-5-10_1968.jpg     1.0\n",
       "...                                           ...     ...\n",
       "523046                9996949_1937-04-17_1963.jpg     1.0\n",
       "523047                9997032_1947-07-30_1970.jpg     1.0\n",
       "523048                9998109_1972-12-27_2013.jpg     1.0\n",
       "523049                9999400_1981-12-13_2011.jpg     1.0\n",
       "523050                 999980_1954-06-11_2008.jpg     0.0\n",
       "\n",
       "[523051 rows x 2 columns]"
      ]
     },
     "execution_count": 55,
     "metadata": {},
     "output_type": "execute_result"
    }
   ],
   "source": [
    "df1"
   ]
  },
  {
   "cell_type": "code",
   "execution_count": 64,
   "id": "expensive-alias",
   "metadata": {},
   "outputs": [],
   "source": [
    "# merge df1 and df2 on 'full_path' column\n",
    "df = pd.merge(df2, df1[['full_path', 'gender']], on='full_path', how='left')"
   ]
  },
  {
   "cell_type": "code",
   "execution_count": 65,
   "id": "regulated-poetry",
   "metadata": {},
   "outputs": [
    {
     "data": {
      "text/html": [
       "<div>\n",
       "<style scoped>\n",
       "    .dataframe tbody tr th:only-of-type {\n",
       "        vertical-align: middle;\n",
       "    }\n",
       "\n",
       "    .dataframe tbody tr th {\n",
       "        vertical-align: top;\n",
       "    }\n",
       "\n",
       "    .dataframe thead th {\n",
       "        text-align: right;\n",
       "    }\n",
       "</style>\n",
       "<table border=\"1\" class=\"dataframe\">\n",
       "  <thead>\n",
       "    <tr style=\"text-align: right;\">\n",
       "      <th></th>\n",
       "      <th>score</th>\n",
       "      <th>full_path</th>\n",
       "      <th>gender</th>\n",
       "    </tr>\n",
       "  </thead>\n",
       "  <tbody>\n",
       "    <tr>\n",
       "      <th>0</th>\n",
       "      <td>10</td>\n",
       "      <td>nm1442940_rm3965098752_1996-10-3_2006.jpg</td>\n",
       "      <td>0.0</td>\n",
       "    </tr>\n",
       "    <tr>\n",
       "      <th>1</th>\n",
       "      <td>10</td>\n",
       "      <td>nm4832920_rm1781768448_2003-8-28_2013.jpg</td>\n",
       "      <td>0.0</td>\n",
       "    </tr>\n",
       "    <tr>\n",
       "      <th>2</th>\n",
       "      <td>10</td>\n",
       "      <td>nm0652089_rm860657920_1992-3-10_2002.jpg</td>\n",
       "      <td>0.0</td>\n",
       "    </tr>\n",
       "    <tr>\n",
       "      <th>3</th>\n",
       "      <td>10</td>\n",
       "      <td>nm0004917_rm1493730304_1969-5-12_1979.jpg</td>\n",
       "      <td>0.0</td>\n",
       "    </tr>\n",
       "    <tr>\n",
       "      <th>4</th>\n",
       "      <td>10</td>\n",
       "      <td>nm1113550_rm1332711936_1996-4-14_2006.jpg</td>\n",
       "      <td>0.0</td>\n",
       "    </tr>\n",
       "    <tr>\n",
       "      <th>...</th>\n",
       "      <td>...</td>\n",
       "      <td>...</td>\n",
       "      <td>...</td>\n",
       "    </tr>\n",
       "    <tr>\n",
       "      <th>9145</th>\n",
       "      <td>70</td>\n",
       "      <td>475367_1941-08-03_2011.jpg</td>\n",
       "      <td>1.0</td>\n",
       "    </tr>\n",
       "    <tr>\n",
       "      <th>9146</th>\n",
       "      <td>70</td>\n",
       "      <td>304085_1919-07-07_1989.jpg</td>\n",
       "      <td>1.0</td>\n",
       "    </tr>\n",
       "    <tr>\n",
       "      <th>9147</th>\n",
       "      <td>70</td>\n",
       "      <td>nm0001627_rm4164078592_1927-2-20_1997.jpg</td>\n",
       "      <td>1.0</td>\n",
       "    </tr>\n",
       "    <tr>\n",
       "      <th>9148</th>\n",
       "      <td>70</td>\n",
       "      <td>nm0000024_rm1715129344_1904-4-14_1974.jpg</td>\n",
       "      <td>1.0</td>\n",
       "    </tr>\n",
       "    <tr>\n",
       "      <th>9149</th>\n",
       "      <td>70</td>\n",
       "      <td>nm0000323_rm3114703104_1933-3-14_2003.jpg</td>\n",
       "      <td>1.0</td>\n",
       "    </tr>\n",
       "  </tbody>\n",
       "</table>\n",
       "<p>9150 rows × 3 columns</p>\n",
       "</div>"
      ],
      "text/plain": [
       "      score                                  full_path  gender\n",
       "0        10  nm1442940_rm3965098752_1996-10-3_2006.jpg     0.0\n",
       "1        10  nm4832920_rm1781768448_2003-8-28_2013.jpg     0.0\n",
       "2        10   nm0652089_rm860657920_1992-3-10_2002.jpg     0.0\n",
       "3        10  nm0004917_rm1493730304_1969-5-12_1979.jpg     0.0\n",
       "4        10  nm1113550_rm1332711936_1996-4-14_2006.jpg     0.0\n",
       "...     ...                                        ...     ...\n",
       "9145     70                 475367_1941-08-03_2011.jpg     1.0\n",
       "9146     70                 304085_1919-07-07_1989.jpg     1.0\n",
       "9147     70  nm0001627_rm4164078592_1927-2-20_1997.jpg     1.0\n",
       "9148     70  nm0000024_rm1715129344_1904-4-14_1974.jpg     1.0\n",
       "9149     70  nm0000323_rm3114703104_1933-3-14_2003.jpg     1.0\n",
       "\n",
       "[9150 rows x 3 columns]"
      ]
     },
     "execution_count": 65,
     "metadata": {},
     "output_type": "execute_result"
    }
   ],
   "source": [
    "df"
   ]
  },
  {
   "cell_type": "code",
   "execution_count": 66,
   "id": "joined-weapon",
   "metadata": {},
   "outputs": [],
   "source": [
    "# move 'full_path' column to the first position\n",
    "full_path_col = df.pop('full_path')\n",
    "df.insert(0, 'full_path', full_path_col)"
   ]
  },
  {
   "cell_type": "code",
   "execution_count": 67,
   "id": "angry-regulation",
   "metadata": {},
   "outputs": [
    {
     "data": {
      "text/html": [
       "<div>\n",
       "<style scoped>\n",
       "    .dataframe tbody tr th:only-of-type {\n",
       "        vertical-align: middle;\n",
       "    }\n",
       "\n",
       "    .dataframe tbody tr th {\n",
       "        vertical-align: top;\n",
       "    }\n",
       "\n",
       "    .dataframe thead th {\n",
       "        text-align: right;\n",
       "    }\n",
       "</style>\n",
       "<table border=\"1\" class=\"dataframe\">\n",
       "  <thead>\n",
       "    <tr style=\"text-align: right;\">\n",
       "      <th></th>\n",
       "      <th>full_path</th>\n",
       "      <th>score</th>\n",
       "      <th>gender</th>\n",
       "    </tr>\n",
       "  </thead>\n",
       "  <tbody>\n",
       "    <tr>\n",
       "      <th>0</th>\n",
       "      <td>nm1442940_rm3965098752_1996-10-3_2006.jpg</td>\n",
       "      <td>10</td>\n",
       "      <td>0.0</td>\n",
       "    </tr>\n",
       "    <tr>\n",
       "      <th>1</th>\n",
       "      <td>nm4832920_rm1781768448_2003-8-28_2013.jpg</td>\n",
       "      <td>10</td>\n",
       "      <td>0.0</td>\n",
       "    </tr>\n",
       "    <tr>\n",
       "      <th>2</th>\n",
       "      <td>nm0652089_rm860657920_1992-3-10_2002.jpg</td>\n",
       "      <td>10</td>\n",
       "      <td>0.0</td>\n",
       "    </tr>\n",
       "    <tr>\n",
       "      <th>3</th>\n",
       "      <td>nm0004917_rm1493730304_1969-5-12_1979.jpg</td>\n",
       "      <td>10</td>\n",
       "      <td>0.0</td>\n",
       "    </tr>\n",
       "    <tr>\n",
       "      <th>4</th>\n",
       "      <td>nm1113550_rm1332711936_1996-4-14_2006.jpg</td>\n",
       "      <td>10</td>\n",
       "      <td>0.0</td>\n",
       "    </tr>\n",
       "    <tr>\n",
       "      <th>...</th>\n",
       "      <td>...</td>\n",
       "      <td>...</td>\n",
       "      <td>...</td>\n",
       "    </tr>\n",
       "    <tr>\n",
       "      <th>9145</th>\n",
       "      <td>475367_1941-08-03_2011.jpg</td>\n",
       "      <td>70</td>\n",
       "      <td>1.0</td>\n",
       "    </tr>\n",
       "    <tr>\n",
       "      <th>9146</th>\n",
       "      <td>304085_1919-07-07_1989.jpg</td>\n",
       "      <td>70</td>\n",
       "      <td>1.0</td>\n",
       "    </tr>\n",
       "    <tr>\n",
       "      <th>9147</th>\n",
       "      <td>nm0001627_rm4164078592_1927-2-20_1997.jpg</td>\n",
       "      <td>70</td>\n",
       "      <td>1.0</td>\n",
       "    </tr>\n",
       "    <tr>\n",
       "      <th>9148</th>\n",
       "      <td>nm0000024_rm1715129344_1904-4-14_1974.jpg</td>\n",
       "      <td>70</td>\n",
       "      <td>1.0</td>\n",
       "    </tr>\n",
       "    <tr>\n",
       "      <th>9149</th>\n",
       "      <td>nm0000323_rm3114703104_1933-3-14_2003.jpg</td>\n",
       "      <td>70</td>\n",
       "      <td>1.0</td>\n",
       "    </tr>\n",
       "  </tbody>\n",
       "</table>\n",
       "<p>9150 rows × 3 columns</p>\n",
       "</div>"
      ],
      "text/plain": [
       "                                      full_path  score  gender\n",
       "0     nm1442940_rm3965098752_1996-10-3_2006.jpg     10     0.0\n",
       "1     nm4832920_rm1781768448_2003-8-28_2013.jpg     10     0.0\n",
       "2      nm0652089_rm860657920_1992-3-10_2002.jpg     10     0.0\n",
       "3     nm0004917_rm1493730304_1969-5-12_1979.jpg     10     0.0\n",
       "4     nm1113550_rm1332711936_1996-4-14_2006.jpg     10     0.0\n",
       "...                                         ...    ...     ...\n",
       "9145                 475367_1941-08-03_2011.jpg     70     1.0\n",
       "9146                 304085_1919-07-07_1989.jpg     70     1.0\n",
       "9147  nm0001627_rm4164078592_1927-2-20_1997.jpg     70     1.0\n",
       "9148  nm0000024_rm1715129344_1904-4-14_1974.jpg     70     1.0\n",
       "9149  nm0000323_rm3114703104_1933-3-14_2003.jpg     70     1.0\n",
       "\n",
       "[9150 rows x 3 columns]"
      ]
     },
     "execution_count": 67,
     "metadata": {},
     "output_type": "execute_result"
    }
   ],
   "source": [
    "df"
   ]
  },
  {
   "cell_type": "code",
   "execution_count": 124,
   "id": "molecular-yacht",
   "metadata": {},
   "outputs": [],
   "source": [
    "file_path = \"../data/FaceAgeDF.pickle\"\n",
    "\n",
    "# Save the dictionary to the external file\n",
    "with open(file_path, 'wb') as handle:\n",
    "    pickle.dump(df, handle, protocol=pickle.HIGHEST_PROTOCOL)\n"
   ]
  },
  {
   "cell_type": "code",
   "execution_count": 72,
   "id": "opponent-mathematics",
   "metadata": {},
   "outputs": [],
   "source": [
    "df_cl = pd.read_csv('../data/crowd_labels.csv')"
   ]
  },
  {
   "cell_type": "code",
   "execution_count": 73,
   "id": "physical-estate",
   "metadata": {},
   "outputs": [
    {
     "data": {
      "text/html": [
       "<div>\n",
       "<style scoped>\n",
       "    .dataframe tbody tr th:only-of-type {\n",
       "        vertical-align: middle;\n",
       "    }\n",
       "\n",
       "    .dataframe tbody tr th {\n",
       "        vertical-align: top;\n",
       "    }\n",
       "\n",
       "    .dataframe thead th {\n",
       "        text-align: right;\n",
       "    }\n",
       "</style>\n",
       "<table border=\"1\" class=\"dataframe\">\n",
       "  <thead>\n",
       "    <tr style=\"text-align: right;\">\n",
       "      <th></th>\n",
       "      <th>left</th>\n",
       "      <th>right</th>\n",
       "      <th>label</th>\n",
       "      <th>performer</th>\n",
       "    </tr>\n",
       "  </thead>\n",
       "  <tbody>\n",
       "    <tr>\n",
       "      <th>0</th>\n",
       "      <td>https://tlk.s3.yandex.net/annotation_tasks/IMDB-WIKI-SbS/26147732_1991-07-22_2015.jpg</td>\n",
       "      <td>https://tlk.s3.yandex.net/annotation_tasks/IMDB-WIKI-SbS/nm0707728_rm4048061440_1935-1-2_1966.jpg</td>\n",
       "      <td>https://tlk.s3.yandex.net/annotation_tasks/IMDB-WIKI-SbS/nm0707728_rm4048061440_1935-1-2_1966.jpg</td>\n",
       "      <td>0</td>\n",
       "    </tr>\n",
       "    <tr>\n",
       "      <th>1</th>\n",
       "      <td>https://tlk.s3.yandex.net/annotation_tasks/IMDB-WIKI-SbS/nm0000072_rm2497944320_1932-2-27_1985.jpg</td>\n",
       "      <td>https://tlk.s3.yandex.net/annotation_tasks/IMDB-WIKI-SbS/nm0025978_rm3962736128_1954-11-16_1999.jpg</td>\n",
       "      <td>https://tlk.s3.yandex.net/annotation_tasks/IMDB-WIKI-SbS/nm0000072_rm2497944320_1932-2-27_1985.jpg</td>\n",
       "      <td>0</td>\n",
       "    </tr>\n",
       "    <tr>\n",
       "      <th>2</th>\n",
       "      <td>https://tlk.s3.yandex.net/annotation_tasks/IMDB-WIKI-SbS/nm0788370_rm2989144320_1971-4-11_1999.jpg</td>\n",
       "      <td>https://tlk.s3.yandex.net/annotation_tasks/IMDB-WIKI-SbS/nm0726180_rm2487589632_1981-1-1_2005.jpg</td>\n",
       "      <td>https://tlk.s3.yandex.net/annotation_tasks/IMDB-WIKI-SbS/nm0788370_rm2989144320_1971-4-11_1999.jpg</td>\n",
       "      <td>0</td>\n",
       "    </tr>\n",
       "    <tr>\n",
       "      <th>3</th>\n",
       "      <td>https://tlk.s3.yandex.net/annotation_tasks/IMDB-WIKI-SbS/nm0325390_rm3409478912_1951-10-19_1979.jpg</td>\n",
       "      <td>https://tlk.s3.yandex.net/annotation_tasks/IMDB-WIKI-SbS/1094676_1944-12-08_2011.jpg</td>\n",
       "      <td>https://tlk.s3.yandex.net/annotation_tasks/IMDB-WIKI-SbS/1094676_1944-12-08_2011.jpg</td>\n",
       "      <td>1</td>\n",
       "    </tr>\n",
       "    <tr>\n",
       "      <th>4</th>\n",
       "      <td>https://tlk.s3.yandex.net/annotation_tasks/IMDB-WIKI-SbS/1780768_1927-01-22_1963.jpg</td>\n",
       "      <td>https://tlk.s3.yandex.net/annotation_tasks/IMDB-WIKI-SbS/nm0000442_rm1571854336_1944-1-23_2005.jpg</td>\n",
       "      <td>https://tlk.s3.yandex.net/annotation_tasks/IMDB-WIKI-SbS/nm0000442_rm1571854336_1944-1-23_2005.jpg</td>\n",
       "      <td>1</td>\n",
       "    </tr>\n",
       "    <tr>\n",
       "      <th>...</th>\n",
       "      <td>...</td>\n",
       "      <td>...</td>\n",
       "      <td>...</td>\n",
       "      <td>...</td>\n",
       "    </tr>\n",
       "    <tr>\n",
       "      <th>250244</th>\n",
       "      <td>https://tlk.s3.yandex.net/annotation_tasks/IMDB-WIKI-SbS/nm0000943_rm2478151680_1968-1-13_1999.jpg</td>\n",
       "      <td>https://tlk.s3.yandex.net/annotation_tasks/IMDB-WIKI-SbS/nm0000825_rm1298385920_1952-10-7_1962.jpg</td>\n",
       "      <td>https://tlk.s3.yandex.net/annotation_tasks/IMDB-WIKI-SbS/nm0000825_rm1298385920_1952-10-7_1962.jpg</td>\n",
       "      <td>3885</td>\n",
       "    </tr>\n",
       "    <tr>\n",
       "      <th>250245</th>\n",
       "      <td>https://tlk.s3.yandex.net/annotation_tasks/IMDB-WIKI-SbS/26835279_1938-12-27_2004.jpg</td>\n",
       "      <td>https://tlk.s3.yandex.net/annotation_tasks/IMDB-WIKI-SbS/nm0771493_rm519611392_1955-5-27_2013.jpg</td>\n",
       "      <td>https://tlk.s3.yandex.net/annotation_tasks/IMDB-WIKI-SbS/26835279_1938-12-27_2004.jpg</td>\n",
       "      <td>3885</td>\n",
       "    </tr>\n",
       "    <tr>\n",
       "      <th>250246</th>\n",
       "      <td>https://tlk.s3.yandex.net/annotation_tasks/IMDB-WIKI-SbS/2723_1964-05-27_2007.jpg</td>\n",
       "      <td>https://tlk.s3.yandex.net/annotation_tasks/IMDB-WIKI-SbS/nm0858969_rm53517056_1990-1-30_2001.jpg</td>\n",
       "      <td>https://tlk.s3.yandex.net/annotation_tasks/IMDB-WIKI-SbS/2723_1964-05-27_2007.jpg</td>\n",
       "      <td>4090</td>\n",
       "    </tr>\n",
       "    <tr>\n",
       "      <th>250247</th>\n",
       "      <td>https://tlk.s3.yandex.net/annotation_tasks/IMDB-WIKI-SbS/nm0177396_rm3601370112_1987-9-15_2010.jpg</td>\n",
       "      <td>https://tlk.s3.yandex.net/annotation_tasks/IMDB-WIKI-SbS/nm0005391_rm3942707712_1963-3-10_2015.jpg</td>\n",
       "      <td>https://tlk.s3.yandex.net/annotation_tasks/IMDB-WIKI-SbS/nm0005391_rm3942707712_1963-3-10_2015.jpg</td>\n",
       "      <td>4090</td>\n",
       "    </tr>\n",
       "    <tr>\n",
       "      <th>250248</th>\n",
       "      <td>https://tlk.s3.yandex.net/annotation_tasks/IMDB-WIKI-SbS/2275823_1961-09-12_2011.jpg</td>\n",
       "      <td>https://tlk.s3.yandex.net/annotation_tasks/IMDB-WIKI-SbS/1523302_1956-03-03_2008.jpg</td>\n",
       "      <td>https://tlk.s3.yandex.net/annotation_tasks/IMDB-WIKI-SbS/2275823_1961-09-12_2011.jpg</td>\n",
       "      <td>4090</td>\n",
       "    </tr>\n",
       "  </tbody>\n",
       "</table>\n",
       "<p>250249 rows × 4 columns</p>\n",
       "</div>"
      ],
      "text/plain": [
       "                                                                                                       left  \\\n",
       "0                     https://tlk.s3.yandex.net/annotation_tasks/IMDB-WIKI-SbS/26147732_1991-07-22_2015.jpg   \n",
       "1        https://tlk.s3.yandex.net/annotation_tasks/IMDB-WIKI-SbS/nm0000072_rm2497944320_1932-2-27_1985.jpg   \n",
       "2        https://tlk.s3.yandex.net/annotation_tasks/IMDB-WIKI-SbS/nm0788370_rm2989144320_1971-4-11_1999.jpg   \n",
       "3       https://tlk.s3.yandex.net/annotation_tasks/IMDB-WIKI-SbS/nm0325390_rm3409478912_1951-10-19_1979.jpg   \n",
       "4                      https://tlk.s3.yandex.net/annotation_tasks/IMDB-WIKI-SbS/1780768_1927-01-22_1963.jpg   \n",
       "...                                                                                                     ...   \n",
       "250244   https://tlk.s3.yandex.net/annotation_tasks/IMDB-WIKI-SbS/nm0000943_rm2478151680_1968-1-13_1999.jpg   \n",
       "250245                https://tlk.s3.yandex.net/annotation_tasks/IMDB-WIKI-SbS/26835279_1938-12-27_2004.jpg   \n",
       "250246                    https://tlk.s3.yandex.net/annotation_tasks/IMDB-WIKI-SbS/2723_1964-05-27_2007.jpg   \n",
       "250247   https://tlk.s3.yandex.net/annotation_tasks/IMDB-WIKI-SbS/nm0177396_rm3601370112_1987-9-15_2010.jpg   \n",
       "250248                 https://tlk.s3.yandex.net/annotation_tasks/IMDB-WIKI-SbS/2275823_1961-09-12_2011.jpg   \n",
       "\n",
       "                                                                                                      right  \\\n",
       "0         https://tlk.s3.yandex.net/annotation_tasks/IMDB-WIKI-SbS/nm0707728_rm4048061440_1935-1-2_1966.jpg   \n",
       "1       https://tlk.s3.yandex.net/annotation_tasks/IMDB-WIKI-SbS/nm0025978_rm3962736128_1954-11-16_1999.jpg   \n",
       "2         https://tlk.s3.yandex.net/annotation_tasks/IMDB-WIKI-SbS/nm0726180_rm2487589632_1981-1-1_2005.jpg   \n",
       "3                      https://tlk.s3.yandex.net/annotation_tasks/IMDB-WIKI-SbS/1094676_1944-12-08_2011.jpg   \n",
       "4        https://tlk.s3.yandex.net/annotation_tasks/IMDB-WIKI-SbS/nm0000442_rm1571854336_1944-1-23_2005.jpg   \n",
       "...                                                                                                     ...   \n",
       "250244   https://tlk.s3.yandex.net/annotation_tasks/IMDB-WIKI-SbS/nm0000825_rm1298385920_1952-10-7_1962.jpg   \n",
       "250245    https://tlk.s3.yandex.net/annotation_tasks/IMDB-WIKI-SbS/nm0771493_rm519611392_1955-5-27_2013.jpg   \n",
       "250246     https://tlk.s3.yandex.net/annotation_tasks/IMDB-WIKI-SbS/nm0858969_rm53517056_1990-1-30_2001.jpg   \n",
       "250247   https://tlk.s3.yandex.net/annotation_tasks/IMDB-WIKI-SbS/nm0005391_rm3942707712_1963-3-10_2015.jpg   \n",
       "250248                 https://tlk.s3.yandex.net/annotation_tasks/IMDB-WIKI-SbS/1523302_1956-03-03_2008.jpg   \n",
       "\n",
       "                                                                                                     label  \\\n",
       "0        https://tlk.s3.yandex.net/annotation_tasks/IMDB-WIKI-SbS/nm0707728_rm4048061440_1935-1-2_1966.jpg   \n",
       "1       https://tlk.s3.yandex.net/annotation_tasks/IMDB-WIKI-SbS/nm0000072_rm2497944320_1932-2-27_1985.jpg   \n",
       "2       https://tlk.s3.yandex.net/annotation_tasks/IMDB-WIKI-SbS/nm0788370_rm2989144320_1971-4-11_1999.jpg   \n",
       "3                     https://tlk.s3.yandex.net/annotation_tasks/IMDB-WIKI-SbS/1094676_1944-12-08_2011.jpg   \n",
       "4       https://tlk.s3.yandex.net/annotation_tasks/IMDB-WIKI-SbS/nm0000442_rm1571854336_1944-1-23_2005.jpg   \n",
       "...                                                                                                    ...   \n",
       "250244  https://tlk.s3.yandex.net/annotation_tasks/IMDB-WIKI-SbS/nm0000825_rm1298385920_1952-10-7_1962.jpg   \n",
       "250245               https://tlk.s3.yandex.net/annotation_tasks/IMDB-WIKI-SbS/26835279_1938-12-27_2004.jpg   \n",
       "250246                   https://tlk.s3.yandex.net/annotation_tasks/IMDB-WIKI-SbS/2723_1964-05-27_2007.jpg   \n",
       "250247  https://tlk.s3.yandex.net/annotation_tasks/IMDB-WIKI-SbS/nm0005391_rm3942707712_1963-3-10_2015.jpg   \n",
       "250248                https://tlk.s3.yandex.net/annotation_tasks/IMDB-WIKI-SbS/2275823_1961-09-12_2011.jpg   \n",
       "\n",
       "        performer  \n",
       "0               0  \n",
       "1               0  \n",
       "2               0  \n",
       "3               1  \n",
       "4               1  \n",
       "...           ...  \n",
       "250244       3885  \n",
       "250245       3885  \n",
       "250246       4090  \n",
       "250247       4090  \n",
       "250248       4090  \n",
       "\n",
       "[250249 rows x 4 columns]"
      ]
     },
     "execution_count": 73,
     "metadata": {},
     "output_type": "execute_result"
    }
   ],
   "source": [
    "df_cl"
   ]
  },
  {
   "cell_type": "code",
   "execution_count": 89,
   "id": "unlimited-symposium",
   "metadata": {},
   "outputs": [],
   "source": [
    "df_cl['left'] = df_cl['left'].apply(lambda x: x.split('/')[-1])\n",
    "df_cl['right'] = df_cl['right'].apply(lambda x: x.split('/')[-1])\n",
    "df_cl['label'] = df_cl['label'].apply(lambda x: x.split('/')[-1])"
   ]
  },
  {
   "cell_type": "code",
   "execution_count": 90,
   "id": "likely-permission",
   "metadata": {},
   "outputs": [
    {
     "data": {
      "text/html": [
       "<div>\n",
       "<style scoped>\n",
       "    .dataframe tbody tr th:only-of-type {\n",
       "        vertical-align: middle;\n",
       "    }\n",
       "\n",
       "    .dataframe tbody tr th {\n",
       "        vertical-align: top;\n",
       "    }\n",
       "\n",
       "    .dataframe thead th {\n",
       "        text-align: right;\n",
       "    }\n",
       "</style>\n",
       "<table border=\"1\" class=\"dataframe\">\n",
       "  <thead>\n",
       "    <tr style=\"text-align: right;\">\n",
       "      <th></th>\n",
       "      <th>left</th>\n",
       "      <th>right</th>\n",
       "      <th>label</th>\n",
       "      <th>performer</th>\n",
       "    </tr>\n",
       "  </thead>\n",
       "  <tbody>\n",
       "    <tr>\n",
       "      <th>0</th>\n",
       "      <td>26147732_1991-07-22_2015.jpg</td>\n",
       "      <td>nm0707728_rm4048061440_1935-1-2_1966.jpg</td>\n",
       "      <td>nm0707728_rm4048061440_1935-1-2_1966.jpg</td>\n",
       "      <td>0</td>\n",
       "    </tr>\n",
       "    <tr>\n",
       "      <th>1</th>\n",
       "      <td>nm0000072_rm2497944320_1932-2-27_1985.jpg</td>\n",
       "      <td>nm0025978_rm3962736128_1954-11-16_1999.jpg</td>\n",
       "      <td>nm0000072_rm2497944320_1932-2-27_1985.jpg</td>\n",
       "      <td>0</td>\n",
       "    </tr>\n",
       "    <tr>\n",
       "      <th>2</th>\n",
       "      <td>nm0788370_rm2989144320_1971-4-11_1999.jpg</td>\n",
       "      <td>nm0726180_rm2487589632_1981-1-1_2005.jpg</td>\n",
       "      <td>nm0788370_rm2989144320_1971-4-11_1999.jpg</td>\n",
       "      <td>0</td>\n",
       "    </tr>\n",
       "    <tr>\n",
       "      <th>3</th>\n",
       "      <td>nm0325390_rm3409478912_1951-10-19_1979.jpg</td>\n",
       "      <td>1094676_1944-12-08_2011.jpg</td>\n",
       "      <td>1094676_1944-12-08_2011.jpg</td>\n",
       "      <td>1</td>\n",
       "    </tr>\n",
       "    <tr>\n",
       "      <th>4</th>\n",
       "      <td>1780768_1927-01-22_1963.jpg</td>\n",
       "      <td>nm0000442_rm1571854336_1944-1-23_2005.jpg</td>\n",
       "      <td>nm0000442_rm1571854336_1944-1-23_2005.jpg</td>\n",
       "      <td>1</td>\n",
       "    </tr>\n",
       "    <tr>\n",
       "      <th>...</th>\n",
       "      <td>...</td>\n",
       "      <td>...</td>\n",
       "      <td>...</td>\n",
       "      <td>...</td>\n",
       "    </tr>\n",
       "    <tr>\n",
       "      <th>250244</th>\n",
       "      <td>nm0000943_rm2478151680_1968-1-13_1999.jpg</td>\n",
       "      <td>nm0000825_rm1298385920_1952-10-7_1962.jpg</td>\n",
       "      <td>nm0000825_rm1298385920_1952-10-7_1962.jpg</td>\n",
       "      <td>3885</td>\n",
       "    </tr>\n",
       "    <tr>\n",
       "      <th>250245</th>\n",
       "      <td>26835279_1938-12-27_2004.jpg</td>\n",
       "      <td>nm0771493_rm519611392_1955-5-27_2013.jpg</td>\n",
       "      <td>26835279_1938-12-27_2004.jpg</td>\n",
       "      <td>3885</td>\n",
       "    </tr>\n",
       "    <tr>\n",
       "      <th>250246</th>\n",
       "      <td>2723_1964-05-27_2007.jpg</td>\n",
       "      <td>nm0858969_rm53517056_1990-1-30_2001.jpg</td>\n",
       "      <td>2723_1964-05-27_2007.jpg</td>\n",
       "      <td>4090</td>\n",
       "    </tr>\n",
       "    <tr>\n",
       "      <th>250247</th>\n",
       "      <td>nm0177396_rm3601370112_1987-9-15_2010.jpg</td>\n",
       "      <td>nm0005391_rm3942707712_1963-3-10_2015.jpg</td>\n",
       "      <td>nm0005391_rm3942707712_1963-3-10_2015.jpg</td>\n",
       "      <td>4090</td>\n",
       "    </tr>\n",
       "    <tr>\n",
       "      <th>250248</th>\n",
       "      <td>2275823_1961-09-12_2011.jpg</td>\n",
       "      <td>1523302_1956-03-03_2008.jpg</td>\n",
       "      <td>2275823_1961-09-12_2011.jpg</td>\n",
       "      <td>4090</td>\n",
       "    </tr>\n",
       "  </tbody>\n",
       "</table>\n",
       "<p>250249 rows × 4 columns</p>\n",
       "</div>"
      ],
      "text/plain": [
       "                                              left  \\\n",
       "0                     26147732_1991-07-22_2015.jpg   \n",
       "1        nm0000072_rm2497944320_1932-2-27_1985.jpg   \n",
       "2        nm0788370_rm2989144320_1971-4-11_1999.jpg   \n",
       "3       nm0325390_rm3409478912_1951-10-19_1979.jpg   \n",
       "4                      1780768_1927-01-22_1963.jpg   \n",
       "...                                            ...   \n",
       "250244   nm0000943_rm2478151680_1968-1-13_1999.jpg   \n",
       "250245                26835279_1938-12-27_2004.jpg   \n",
       "250246                    2723_1964-05-27_2007.jpg   \n",
       "250247   nm0177396_rm3601370112_1987-9-15_2010.jpg   \n",
       "250248                 2275823_1961-09-12_2011.jpg   \n",
       "\n",
       "                                             right  \\\n",
       "0         nm0707728_rm4048061440_1935-1-2_1966.jpg   \n",
       "1       nm0025978_rm3962736128_1954-11-16_1999.jpg   \n",
       "2         nm0726180_rm2487589632_1981-1-1_2005.jpg   \n",
       "3                      1094676_1944-12-08_2011.jpg   \n",
       "4        nm0000442_rm1571854336_1944-1-23_2005.jpg   \n",
       "...                                            ...   \n",
       "250244   nm0000825_rm1298385920_1952-10-7_1962.jpg   \n",
       "250245    nm0771493_rm519611392_1955-5-27_2013.jpg   \n",
       "250246     nm0858969_rm53517056_1990-1-30_2001.jpg   \n",
       "250247   nm0005391_rm3942707712_1963-3-10_2015.jpg   \n",
       "250248                 1523302_1956-03-03_2008.jpg   \n",
       "\n",
       "                                            label  performer  \n",
       "0        nm0707728_rm4048061440_1935-1-2_1966.jpg          0  \n",
       "1       nm0000072_rm2497944320_1932-2-27_1985.jpg          0  \n",
       "2       nm0788370_rm2989144320_1971-4-11_1999.jpg          0  \n",
       "3                     1094676_1944-12-08_2011.jpg          1  \n",
       "4       nm0000442_rm1571854336_1944-1-23_2005.jpg          1  \n",
       "...                                           ...        ...  \n",
       "250244  nm0000825_rm1298385920_1952-10-7_1962.jpg       3885  \n",
       "250245               26835279_1938-12-27_2004.jpg       3885  \n",
       "250246                   2723_1964-05-27_2007.jpg       4090  \n",
       "250247  nm0005391_rm3942707712_1963-3-10_2015.jpg       4090  \n",
       "250248                2275823_1961-09-12_2011.jpg       4090  \n",
       "\n",
       "[250249 rows x 4 columns]"
      ]
     },
     "execution_count": 90,
     "metadata": {},
     "output_type": "execute_result"
    }
   ],
   "source": [
    "df_cl"
   ]
  },
  {
   "cell_type": "code",
   "execution_count": 91,
   "id": "going-piano",
   "metadata": {},
   "outputs": [
    {
     "name": "stdout",
     "output_type": "stream",
     "text": [
      "        left  right  label  performer\n",
      "0       2229   3164   3164          0\n",
      "1       6505   5302   6505          0\n",
      "2       2822   2139   2822          0\n",
      "3       2757   8593   8593          1\n",
      "4       3991   7792   7792          1\n",
      "...      ...    ...    ...        ...\n",
      "250244  3209      7      7       3885\n",
      "250245  8533   7276   8533       3885\n",
      "250246  5025    228   5025       4090\n",
      "250247  2059   6425   6425       4090\n",
      "250248  6059   6362   6059       4090\n",
      "\n",
      "[250249 rows x 4 columns]\n"
     ]
    }
   ],
   "source": [
    "%%time\n",
    "# replace the values in df2 with their corresponding index in df1\n",
    "df_cl['left'] = df_cl['left'].apply(lambda x: df[df['full_path']==x].index[0])\n",
    "df_cl['right'] = df_cl['right'].apply(lambda x: df[df['full_path']==x].index[0])\n",
    "df_cl['label'] = df_cl['label'].apply(lambda x: df[df['full_path']==x].index[0])\n",
    "\n",
    "# display the modified df\n",
    "print(df_cl)"
   ]
  },
  {
   "cell_type": "code",
   "execution_count": 92,
   "id": "fifth-oasis",
   "metadata": {},
   "outputs": [
    {
     "data": {
      "text/plain": [
       "left         int64\n",
       "right        int64\n",
       "label        int64\n",
       "performer    int64\n",
       "dtype: object"
      ]
     },
     "execution_count": 92,
     "metadata": {},
     "output_type": "execute_result"
    }
   ],
   "source": [
    "df_cl.dtypes"
   ]
  },
  {
   "cell_type": "code",
   "execution_count": 106,
   "id": "foreign-input",
   "metadata": {},
   "outputs": [
    {
     "name": "stdout",
     "output_type": "stream",
     "text": [
      "{(6656, 5719), (3025, 2716), (7598, 148), (4961, 1720), (6650, 565), (7688, 5530), (7246, 3769), (3630, 6905), (7408, 3273), (8580, 6630), (7615, 6076), (8842, 4259), (4983, 358), (5486, 4350), (7792, 3991), (5251, 1759), (8878, 1692), (4508, 1077), (4222, 4888), (8731, 5825), (3594, 1990), (8278, 8863), (3511, 1742), (5323, 4615), (7917, 7335), (8250, 2007), (4357, 2912), (4096, 5608), (3994, 3879), (8303, 1674), (4442, 3374), (7287, 4779), (8613, 6824), (4714, 2759), (6661, 1909), (5492, 2526), (5590, 3674), (8624, 7523), (245, 6049), (6189, 6807), (6943, 825), (7769, 3210), (6613, 4672), (7258, 6121), (6362, 837), (5310, 6234), (2520, 119), (1189, 881), (6712, 6066), (3119, 985), (6963, 3973), (8593, 2757), (7435, 6522), (4517, 11), (4524, 1612), (7116, 2452), (4378, 313), (6715, 4869), (7703, 8292), (7463, 769)}\n",
      "CPU times: total: 14.3 s\n",
      "Wall time: 16 s\n"
     ]
    }
   ],
   "source": [
    "%%time\n",
    "# create a dictionary of sets of tuples\n",
    "revs_dict = {}\n",
    "\n",
    "for index in range(len(df_cl)):\n",
    "    performer = df_cl['performer'][index]\n",
    "    label = df_cl['label'][index]\n",
    "    left = df_cl['left'][index]\n",
    "    right = df_cl['right'][index]\n",
    "    \n",
    "    if performer not in revs_dict:\n",
    "        revs_dict[performer] = set()\n",
    "        \n",
    "    if label == left:\n",
    "        revs_dict[performer].add((label, right))\n",
    "    elif label == right:\n",
    "        revs_dict[performer].add((label, left))\n",
    "    else:\n",
    "        revs_dict[performer].add((-1, left))\n"
   ]
  },
  {
   "cell_type": "code",
   "execution_count": 129,
   "id": "absent-receiver",
   "metadata": {},
   "outputs": [
    {
     "name": "stdout",
     "output_type": "stream",
     "text": [
      "{(6656, 5719), (3025, 2716), (7598, 148), (4961, 1720), (6650, 565), (7688, 5530), (7246, 3769), (3630, 6905), (7408, 3273), (8580, 6630), (7615, 6076), (8842, 4259), (4983, 358), (5486, 4350), (7792, 3991), (5251, 1759), (8878, 1692), (4508, 1077), (4222, 4888), (8731, 5825), (3594, 1990), (8278, 8863), (3511, 1742), (5323, 4615), (7917, 7335), (8250, 2007), (4357, 2912), (4096, 5608), (3994, 3879), (8303, 1674), (4442, 3374), (7287, 4779), (8613, 6824), (4714, 2759), (6661, 1909), (5492, 2526), (5590, 3674), (8624, 7523), (245, 6049), (6189, 6807), (6943, 825), (7769, 3210), (6613, 4672), (7258, 6121), (6362, 837), (5310, 6234), (2520, 119), (1189, 881), (6712, 6066), (3119, 985), (6963, 3973), (8593, 2757), (7435, 6522), (4517, 11), (4524, 1612), (7116, 2452), (4378, 313), (6715, 4869), (7703, 8292), (7463, 769)}\n"
     ]
    }
   ],
   "source": [
    "# display the dictionary of sets of tuples\n",
    "print(revs_dict[1])"
   ]
  },
  {
   "cell_type": "code",
   "execution_count": 123,
   "id": "photographic-mountain",
   "metadata": {},
   "outputs": [],
   "source": [
    "import pickle\n",
    "# Specify the path to the external file\n",
    "file_path = \"../data/FaceAgePC.pickle\"\n",
    "\n",
    "# Save the dictionary to the external file\n",
    "with open(file_path, 'wb') as handle:\n",
    "    pickle.dump(revs_dict, handle, protocol=pickle.HIGHEST_PROTOCOL)\n"
   ]
  },
  {
   "cell_type": "code",
   "execution_count": 76,
   "id": "clinical-evidence",
   "metadata": {},
   "outputs": [
    {
     "data": {
      "text/plain": [
       "<generator object DataFrame.iterrows at 0x0000028287370510>"
      ]
     },
     "execution_count": 76,
     "metadata": {},
     "output_type": "execute_result"
    }
   ],
   "source": [
    "df_cl.iterrows()"
   ]
  },
  {
   "cell_type": "code",
   "execution_count": null,
   "id": "reported-college",
   "metadata": {},
   "outputs": [],
   "source": []
  }
 ],
 "metadata": {
  "kernelspec": {
   "display_name": "Python 3 (ipykernel)",
   "language": "python",
   "name": "python3"
  },
  "language_info": {
   "codemirror_mode": {
    "name": "ipython",
    "version": 3
   },
   "file_extension": ".py",
   "mimetype": "text/x-python",
   "name": "python",
   "nbconvert_exporter": "python",
   "pygments_lexer": "ipython3",
   "version": "3.11.5"
  }
 },
 "nbformat": 4,
 "nbformat_minor": 5
}
